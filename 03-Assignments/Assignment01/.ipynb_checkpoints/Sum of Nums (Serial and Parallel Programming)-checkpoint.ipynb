{
 "cells": [
  {
   "cell_type": "markdown",
   "metadata": {},
   "source": [
    "## Serial Programming"
   ]
  },
  {
   "cell_type": "code",
   "execution_count": null,
   "metadata": {},
   "outputs": [],
   "source": [
    "import numpy as np\n",
    "from timeit import default_timer as timer\n",
    "\n",
    "N = int(input(\"Please enter the N: \"))\n",
    "\n",
    "N_array = np.arange(1,N+1)\n",
    "\n",
    "start = timer()\n",
    "\n",
    "np.sum(N_array)\n",
    "\n",
    "end = timer()\n",
    "\n",
    "print(\"Sum of numbers are \",np.sum(N_array) )\n",
    "\n",
    "print(\"Serial execeution time is: \",end-start, \"second\")"
   ]
  },
  {
   "cell_type": "markdown",
   "metadata": {},
   "source": [
    "## Parallel Programming Part"
   ]
  },
  {
   "cell_type": "code",
   "execution_count": 17,
   "metadata": {},
   "outputs": [],
   "source": [
    "import numpy as np\n",
    "from timeit import default_timer as timer\n",
    "from mpi4py import MPI"
   ]
  },
  {
   "cell_type": "code",
   "execution_count": 18,
   "metadata": {},
   "outputs": [],
   "source": [
    "comm = MPI.COMM_WORLD\n",
    "rank = comm.Get_rank()\n",
    "size = comm.Get_size()"
   ]
  },
  {
   "cell_type": "code",
   "execution_count": 19,
   "metadata": {},
   "outputs": [
    {
     "name": "stdout",
     "output_type": "stream",
     "text": [
      "Please enter the N: 1000\n"
     ]
    }
   ],
   "source": [
    "N = int(input(\"Please enter the N: \"))\n",
    "\n",
    "N = np.arange(1,N+1)"
   ]
  },
  {
   "cell_type": "code",
   "execution_count": 20,
   "metadata": {},
   "outputs": [],
   "source": [
    "rank = [0,1,2,3]"
   ]
  },
  {
   "cell_type": "code",
   "execution_count": 21,
   "metadata": {},
   "outputs": [],
   "source": [
    "size = 4"
   ]
  },
  {
   "cell_type": "code",
   "execution_count": 22,
   "metadata": {},
   "outputs": [],
   "source": [
    "elements_per_rank = len(N)//size"
   ]
  },
  {
   "cell_type": "code",
   "execution_count": 23,
   "metadata": {},
   "outputs": [],
   "source": [
    "if len(N) % size != 0:\n",
    "    reminder = elements_per_rank * size"
   ]
  },
  {
   "cell_type": "code",
   "execution_count": 24,
   "metadata": {},
   "outputs": [
    {
     "data": {
      "text/plain": [
       "250"
      ]
     },
     "execution_count": 24,
     "metadata": {},
     "output_type": "execute_result"
    }
   ],
   "source": [
    "elements_per_rank"
   ]
  },
  {
   "cell_type": "code",
   "execution_count": 25,
   "metadata": {},
   "outputs": [],
   "source": [
    "if len(N) % size != 0:\n",
    "    reminder = elements_per_rank * size\n",
    "else:\n",
    "    reminder = 0"
   ]
  },
  {
   "cell_type": "code",
   "execution_count": 30,
   "metadata": {},
   "outputs": [
    {
     "name": "stdout",
     "output_type": "stream",
     "text": [
      "\n",
      " [  1   2   3   4   5   6   7   8   9  10  11  12  13  14  15  16  17  18\n",
      "  19  20  21  22  23  24  25  26  27  28  29  30  31  32  33  34  35  36\n",
      "  37  38  39  40  41  42  43  44  45  46  47  48  49  50  51  52  53  54\n",
      "  55  56  57  58  59  60  61  62  63  64  65  66  67  68  69  70  71  72\n",
      "  73  74  75  76  77  78  79  80  81  82  83  84  85  86  87  88  89  90\n",
      "  91  92  93  94  95  96  97  98  99 100 101 102 103 104 105 106 107 108\n",
      " 109 110 111 112 113 114 115 116 117 118 119 120 121 122 123 124 125 126\n",
      " 127 128 129 130 131 132 133 134 135 136 137 138 139 140 141 142 143 144\n",
      " 145 146 147 148 149 150 151 152 153 154 155 156 157 158 159 160 161 162\n",
      " 163 164 165 166 167 168 169 170 171 172 173 174 175 176 177 178 179 180\n",
      " 181 182 183 184 185 186 187 188 189 190 191 192 193 194 195 196 197 198\n",
      " 199 200 201 202 203 204 205 206 207 208 209 210 211 212 213 214 215 216\n",
      " 217 218 219 220 221 222 223 224 225 226 227 228 229 230 231 232 233 234\n",
      " 235 236 237 238 239 240 241 242 243 244 245 246 247 248 249 250]\n",
      "\n",
      " [251 252 253 254 255 256 257 258 259 260 261 262 263 264 265 266 267 268\n",
      " 269 270 271 272 273 274 275 276 277 278 279 280 281 282 283 284 285 286\n",
      " 287 288 289 290 291 292 293 294 295 296 297 298 299 300 301 302 303 304\n",
      " 305 306 307 308 309 310 311 312 313 314 315 316 317 318 319 320 321 322\n",
      " 323 324 325 326 327 328 329 330 331 332 333 334 335 336 337 338 339 340\n",
      " 341 342 343 344 345 346 347 348 349 350 351 352 353 354 355 356 357 358\n",
      " 359 360 361 362 363 364 365 366 367 368 369 370 371 372 373 374 375 376\n",
      " 377 378 379 380 381 382 383 384 385 386 387 388 389 390 391 392 393 394\n",
      " 395 396 397 398 399 400 401 402 403 404 405 406 407 408 409 410 411 412\n",
      " 413 414 415 416 417 418 419 420 421 422 423 424 425 426 427 428 429 430\n",
      " 431 432 433 434 435 436 437 438 439 440 441 442 443 444 445 446 447 448\n",
      " 449 450 451 452 453 454 455 456 457 458 459 460 461 462 463 464 465 466\n",
      " 467 468 469 470 471 472 473 474 475 476 477 478 479 480 481 482 483 484\n",
      " 485 486 487 488 489 490 491 492 493 494 495 496 497 498 499 500]\n",
      "\n",
      " [501 502 503 504 505 506 507 508 509 510 511 512 513 514 515 516 517 518\n",
      " 519 520 521 522 523 524 525 526 527 528 529 530 531 532 533 534 535 536\n",
      " 537 538 539 540 541 542 543 544 545 546 547 548 549 550 551 552 553 554\n",
      " 555 556 557 558 559 560 561 562 563 564 565 566 567 568 569 570 571 572\n",
      " 573 574 575 576 577 578 579 580 581 582 583 584 585 586 587 588 589 590\n",
      " 591 592 593 594 595 596 597 598 599 600 601 602 603 604 605 606 607 608\n",
      " 609 610 611 612 613 614 615 616 617 618 619 620 621 622 623 624 625 626\n",
      " 627 628 629 630 631 632 633 634 635 636 637 638 639 640 641 642 643 644\n",
      " 645 646 647 648 649 650 651 652 653 654 655 656 657 658 659 660 661 662\n",
      " 663 664 665 666 667 668 669 670 671 672 673 674 675 676 677 678 679 680\n",
      " 681 682 683 684 685 686 687 688 689 690 691 692 693 694 695 696 697 698\n",
      " 699 700 701 702 703 704 705 706 707 708 709 710 711 712 713 714 715 716\n",
      " 717 718 719 720 721 722 723 724 725 726 727 728 729 730 731 732 733 734\n",
      " 735 736 737 738 739 740 741 742 743 744 745 746 747 748 749 750]\n",
      "\n",
      " [ 751  752  753  754  755  756  757  758  759  760  761  762  763  764\n",
      "  765  766  767  768  769  770  771  772  773  774  775  776  777  778\n",
      "  779  780  781  782  783  784  785  786  787  788  789  790  791  792\n",
      "  793  794  795  796  797  798  799  800  801  802  803  804  805  806\n",
      "  807  808  809  810  811  812  813  814  815  816  817  818  819  820\n",
      "  821  822  823  824  825  826  827  828  829  830  831  832  833  834\n",
      "  835  836  837  838  839  840  841  842  843  844  845  846  847  848\n",
      "  849  850  851  852  853  854  855  856  857  858  859  860  861  862\n",
      "  863  864  865  866  867  868  869  870  871  872  873  874  875  876\n",
      "  877  878  879  880  881  882  883  884  885  886  887  888  889  890\n",
      "  891  892  893  894  895  896  897  898  899  900  901  902  903  904\n",
      "  905  906  907  908  909  910  911  912  913  914  915  916  917  918\n",
      "  919  920  921  922  923  924  925  926  927  928  929  930  931  932\n",
      "  933  934  935  936  937  938  939  940  941  942  943  944  945  946\n",
      "  947  948  949  950  951  952  953  954  955  956  957  958  959  960\n",
      "  961  962  963  964  965  966  967  968  969  970  971  972  973  974\n",
      "  975  976  977  978  979  980  981  982  983  984  985  986  987  988\n",
      "  989  990  991  992  993  994  995  996  997  998  999 1000]\n"
     ]
    }
   ],
   "source": [
    "for rank in range(size):\n",
    "    array = N[rank*elements_per_rank:(rank+1)*elements_per_rank]\n",
    "    print(\"\\n\",array)"
   ]
  },
  {
   "cell_type": "code",
   "execution_count": 13,
   "metadata": {},
   "outputs": [
    {
     "ename": "NameError",
     "evalue": "name 'partial_sum' is not defined",
     "output_type": "error",
     "traceback": [
      "\u001b[0;31m---------------------------------------------------------------------------\u001b[0m",
      "\u001b[0;31mNameError\u001b[0m                                 Traceback (most recent call last)",
      "\u001b[0;32m<ipython-input-13-cfde194e40d5>\u001b[0m in \u001b[0;36m<module>\u001b[0;34m\u001b[0m\n\u001b[1;32m      6\u001b[0m             \u001b[0mreminder_sum\u001b[0m \u001b[0;34m=\u001b[0m \u001b[0;36m0\u001b[0m\u001b[0;34m\u001b[0m\u001b[0;34m\u001b[0m\u001b[0m\n\u001b[1;32m      7\u001b[0m \u001b[0;34m\u001b[0m\u001b[0m\n\u001b[0;32m----> 8\u001b[0;31m     \u001b[0mtotal\u001b[0m \u001b[0;34m=\u001b[0m \u001b[0mpartial_sum\u001b[0m \u001b[0;34m+\u001b[0m \u001b[0mreminder_sum\u001b[0m\u001b[0;34m\u001b[0m\u001b[0;34m\u001b[0m\u001b[0m\n\u001b[0m\u001b[1;32m      9\u001b[0m     \u001b[0;32mfor\u001b[0m \u001b[0mi\u001b[0m \u001b[0;32min\u001b[0m \u001b[0mrange\u001b[0m\u001b[0;34m(\u001b[0m\u001b[0;36m1\u001b[0m\u001b[0;34m,\u001b[0m\u001b[0msize\u001b[0m\u001b[0;34m)\u001b[0m\u001b[0;34m:\u001b[0m\u001b[0;34m\u001b[0m\u001b[0;34m\u001b[0m\u001b[0m\n\u001b[1;32m     10\u001b[0m         \u001b[0mrecv_comm_start\u001b[0m \u001b[0;34m=\u001b[0m \u001b[0mMPI\u001b[0m\u001b[0;34m.\u001b[0m\u001b[0mWtime\u001b[0m\u001b[0;34m(\u001b[0m\u001b[0;34m)\u001b[0m\u001b[0;34m\u001b[0m\u001b[0;34m\u001b[0m\u001b[0m\n",
      "\u001b[0;31mNameError\u001b[0m: name 'partial_sum' is not defined"
     ]
    }
   ],
   "source": [
    "for i in range(size):\n",
    "    if rank == 0: #master nodes gather results from others\n",
    "        if reminder != 0:\n",
    "            reminder_sum = np.sum(N[reminder:])\n",
    "        else:\n",
    "            reminder_sum = 0\n",
    "\n",
    "    total = partial_sum + reminder_sum\n",
    "    for i in range(1,size):\n",
    "        recv_comm_start = MPI.Wtime()\n",
    "        partial_sum = comm.recv(source = i, tag = i*11)\n",
    "        recv_comm_end = MPI.Wtime()\n",
    "        #print(\"From rank\",i,\"to master node receiving time\",recv_comm_end-recv_comm_start) \n",
    "        #print(\"Received partial sum is\",partial_sum)\n",
    "        total += partial_sum\n",
    "    end_time = MPI.Wtime()\n",
    "    print(\" # walltime on master processor :\",end_time-start_time)\n",
    "    print(\"Total of N\",len(N),\":\",total)"
   ]
  },
  {
   "cell_type": "code",
   "execution_count": null,
   "metadata": {},
   "outputs": [],
   "source": [
    "\n",
    "\n",
    "N = int(sys.argv[1])\n",
    "\n",
    "N = np.arange(1,N+1)\n",
    "\n",
    "elements_per_rank = len(N)//size\n",
    "\n",
    "array = N[rank*elements_per_rank:(rank+1)*elements_per_rank]\n",
    "\n",
    "if len(N) % size != 0:\n",
    "    reminder = elements_per_rank * size\n",
    "else:\n",
    "    reminder = 0\n",
    "\n",
    "\n",
    "\n",
    "\n",
    "partial_sum = np.sum(array)\n",
    "\n",
    "#print(\"On rank\" ,rank,\"partial sum is\",partial_sum)\n",
    "    \n",
    "if rank == 0: #master nodes gather results from others\n",
    "\n",
    "    if reminder != 0:\n",
    "        reminder_sum = np.sum(N[reminder:])\n",
    "    else:\n",
    "        reminder_sum = 0\n",
    "\n",
    "    total = partial_sum + reminder_sum\n",
    "    for i in range(1,size):\n",
    "        recv_comm_start = MPI.Wtime()\n",
    "        partial_sum = comm.recv(source = i, tag = i*11)\n",
    "        recv_comm_end = MPI.Wtime()\n",
    "        #print(\"From rank\",i,\"to master node receiving time\",recv_comm_end-recv_comm_start) \n",
    "        #print(\"Received partial sum is\",partial_sum)\n",
    "        total += partial_sum\n",
    "    end_time = MPI.Wtime()\n",
    "    print(\" # walltime on master processor :\",end_time-start_time)\n",
    "    print(\"Total of N\",len(N),\":\",total)\n",
    "    \n",
    "else:\n",
    "    send_comm_start = MPI.Wtime()\n",
    "    comm.send(partial_sum, dest = 0, tag = rank*11)\n",
    "    send_comm_end = MPI.Wtime()\n",
    "    #print(\"From rank\",rank,\"to master node sending time is\",send_comm_end-send_comm_start)\n",
    "    #print(\"rank\",rank, \"sent partial sum to master node\")\n",
    "    end_time = MPI.Wtime()\n",
    "    print(\" # walltime on processor \",rank,\":\", end_time-start_time)\n",
    "\n",
    "    \n"
   ]
  },
  {
   "cell_type": "code",
   "execution_count": null,
   "metadata": {},
   "outputs": [],
   "source": [
    "\n",
    "\n",
    "N = int(sys.argv[1])\n",
    "\n",
    "N = np.arange(1,N+1)\n",
    "\n",
    "elements_per_rank = len(N)//size\n",
    "\n",
    "array = N[rank*elements_per_rank:(rank+1)*elements_per_rank]\n",
    "\n",
    "if len(N) % size != 0:\n",
    "    reminder = elements_per_rank * size\n",
    "else:\n",
    "    reminder = 0\n",
    "\n",
    "\n",
    "\n",
    "\n",
    "partial_sum = np.sum(array)\n",
    "\n",
    "#print(\"On rank\" ,rank,\"partial sum is\",partial_sum)\n",
    "\n",
    "for rank in range(size):\n",
    "    \n",
    "    if rank == 0: #master nodes gather results from others\n",
    "\n",
    "        if reminder != 0:\n",
    "            reminder_sum = np.sum(N[reminder:])\n",
    "        else:\n",
    "            reminder_sum = 0\n",
    "\n",
    "        total = partial_sum + reminder_sum\n",
    "        for i in range(1,size):\n",
    "            recv_comm_start = MPI.Wtime()\n",
    "            partial_sum = comm.recv(source = i, tag = i*11)\n",
    "            recv_comm_end = MPI.Wtime()\n",
    "            #print(\"From rank\",i,\"to master node receiving time\",recv_comm_end-recv_comm_start) \n",
    "            #print(\"Received partial sum is\",partial_sum)\n",
    "            total += partial_sum\n",
    "        end_time = MPI.Wtime()\n",
    "        print(\" # walltime on master processor :\",end_time-start_time)\n",
    "        print(\"Total of N\",len(N),\":\",total)\n",
    "\n",
    "    else:\n",
    "        send_comm_start = MPI.Wtime()\n",
    "        comm.send(partial_sum, dest = 0, tag = rank*11)\n",
    "        send_comm_end = MPI.Wtime()\n",
    "        #print(\"From rank\",rank,\"to master node sending time is\",send_comm_end-send_comm_start)\n",
    "        #print(\"rank\",rank, \"sent partial sum to master node\")\n",
    "        end_time = MPI.Wtime()\n",
    "        print(\" # walltime on processor \",rank,\":\", end_time-start_time)\n",
    "\n",
    "    \n"
   ]
  }
 ],
 "metadata": {
  "kernelspec": {
   "display_name": "Python 3",
   "language": "python",
   "name": "python3"
  },
  "language_info": {
   "codemirror_mode": {
    "name": "ipython",
    "version": 3
   },
   "file_extension": ".py",
   "mimetype": "text/x-python",
   "name": "python",
   "nbconvert_exporter": "python",
   "pygments_lexer": "ipython3",
   "version": "3.6.9"
  }
 },
 "nbformat": 4,
 "nbformat_minor": 2
}

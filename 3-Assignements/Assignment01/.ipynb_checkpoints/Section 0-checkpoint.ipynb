{
 "cells": [
  {
   "cell_type": "code",
   "execution_count": 1,
   "metadata": {},
   "outputs": [],
   "source": [
    "from IPython import display"
   ]
  },
  {
   "cell_type": "markdown",
   "metadata": {},
   "source": [
    "- Compute Theoretical Peak performance for your laptop/desktop\n",
    "\n",
    "  - The CPU of my computer is **Intel(R) Core(TM) i7-4720HQ**                       \n",
    "\n",
    "  - Clock-rate (frequency) is 3.6 GHz (Turbo frequency)      \n",
    "\n",
    "  - It has 4 cores \n",
    "  \n",
    "  - Number_of_FP_operation is **16** (for 64 bit architecture) ([source](https://en.wikipedia.org/wiki/FLOPS))"
   ]
  },
  {
   "cell_type": "code",
   "execution_count": 2,
   "metadata": {},
   "outputs": [
    {
     "name": "stdout",
     "output_type": "stream",
     "text": [
      "Theoretical Peak Performance of my computer is: 230.4 GLOPS\n"
     ]
    }
   ],
   "source": [
    "Clock_rate = 3.6\n",
    "cores = 4\n",
    "FP_Operation = 16\n",
    "\n",
    "Theoretical_Peak_Performance = Clock_rate * FP_Operation * cores\n",
    "\n",
    "print(\"Theoretical Peak Performance of my computer is:\",Theoretical_Peak_Performance, \"GLOPS\")"
   ]
  },
  {
   "cell_type": "markdown",
   "metadata": {},
   "source": [
    "|        | Your model | CPU  | Frequency | number  of core | Peak performance |\n",
    "| ------ | ---------- | ---- | --------- | --------------- | ---------------- |\n",
    "| Laptop | MSI GE70 2QE APACHE PRO|Intel(R) Core(TM) i7-4720HQ| 3.6 GHz|4 | 230.4 GLOPS      |\n"
   ]
  },
  {
   "cell_type": "markdown",
   "metadata": {},
   "source": [
    "- Compute sustained Peak performance for your  cell-phone\n",
    "    * My phone is iPhone 6, its CPU is **Apple A8 a 64 bit**\n",
    "    \n",
    "    * Clock-rate (frequency) is 1.4 GHz\n",
    "    \n",
    "    * It has 2 cores\n",
    "    \n",
    "    * Number_of_FP_operation is **12.8** (for 64 bit architecture) [source](https://en.wikipedia.org/wiki/Apple-designed_processors#Apple_A4)"
   ]
  },
  {
   "cell_type": "markdown",
   "metadata": {},
   "source": [
    "- Compute sustained Peak performance for your  cell-phone\n",
    "\n",
    "    * I have used [MobileLinpack](https://apps.apple.com/cz/app/mobile-linpack/id1001893181) app from App Store.\n",
    "    \n",
    "    * Below you can find the results."
   ]
  },
  {
   "cell_type": "markdown",
   "metadata": {},
   "source": [
    "### First Run\n",
    "\n",
    " **Default Parameters**\n",
    " \n",
    " * Matrix start size = 32\n",
    " * Matrix finish size = 257\n",
    " * Step = 16\n",
    " * Number of iterations = 200\n",
    " \n",
    " * **Result** 2.55 GLOPS"
   ]
  },
  {
   "cell_type": "markdown",
   "metadata": {},
   "source": [
    "\n",
    "### Second Run\n",
    " \n",
    " * Matrix start size = 64\n",
    " * Matrix finish size = 257\n",
    " * Step = 16\n",
    " * Number of iterations = 150\n",
    " \n",
    " * **Result** 2.55 GLOPS\n",
    " \n",
    "### Third Run\n",
    " \n",
    " * Matrix start size = 128\n",
    " * Matrix finish size = 512\n",
    " * Step = 16\n",
    " * Number of iterations = 150\n",
    " \n",
    " * **Result** 2.09 GLOPS\n",
    " \n",
    "### Fourth Run\n",
    "\n",
    " * Matrix start size = 32\n",
    " * Matrix finish size = 512\n",
    " * Step = 8\n",
    " * Number of iterations = 150\n",
    " \n",
    " * **Result** 2.58 GLOPS"
   ]
  },
  {
   "cell_type": "markdown",
   "metadata": {},
   "source": [
    "### Fifth Run\n",
    "\n",
    " * Matrix start size = 16\n",
    " * Matrix finish size = 700\n",
    " * Step = 8\n",
    " * Number of iterations = 200\n",
    " \n",
    " * **Result** 2.58 GLOPS"
   ]
  },
  {
   "cell_type": "markdown",
   "metadata": {},
   "source": [
    "- Extra Bonus:  Identify the CPU and calculate the Peak performance of the CPU"
   ]
  },
  {
   "cell_type": "code",
   "execution_count": 3,
   "metadata": {},
   "outputs": [
    {
     "name": "stdout",
     "output_type": "stream",
     "text": [
      "Theoretical Peak Performance of my cell phone is: 35.839999999999996 GLOPS\n"
     ]
    }
   ],
   "source": [
    "Clock_rate = 1.4\n",
    "cores = 2\n",
    "FP_Operation = 12.8\n",
    "\n",
    "Theoretical_Peak_Performance = Clock_rate * FP_Operation * cores\n",
    "\n",
    "print(\"Theoretical Peak Performance of my cell phone is:\",Theoretical_Peak_Performance, \"GLOPS\")"
   ]
  },
  {
   "cell_type": "markdown",
   "metadata": {},
   "source": [
    "  |            | Your model | sustained performance | size of matrix | Peak performance | memory |\n",
    "  | ---------- | ---------- | --------------------- | -------------- | ---------------- | ------ |\n",
    "  | SmartPhone | iPhone 6, Apple A8 (CPU)| 2.58 GLOPS |  700 |  35.84 GLOPS | 1 GB   |"
   ]
  },
  {
   "cell_type": "markdown",
   "metadata": {},
   "source": [
    "- Find out in which year  your cell phone/laptop  could have been in top 1% of Top500"
   ]
  },
  {
   "cell_type": "markdown",
   "metadata": {},
   "source": [
    "According to results my phone is 505.7 times are slower than Intel ASCI Red (1998 TOP500 #1) and 3307.4 times are faster than ES-1045 (1979)"
   ]
  },
  {
   "cell_type": "markdown",
   "metadata": {},
   "source": [
    "In Top500, sustained peak performance is used for benchmark, that is why to answer the below quesiton, I also find the sustained peak performance of my laptop by using **Intel® Math Kernel Library (Intel® MKL) Benchmarks Suite.**\n",
    "\n",
    "Parameters for test is Number of equations to solve (problem size): 30000, Leading dimension of array: 30000, Number of trials to run: 8\n",
    "\n",
    "Average sustained performance is **131.2885 GLOPS**, sustained peak performance is **136.3127 GLOPS**      "
   ]
  },
  {
   "cell_type": "markdown",
   "metadata": {},
   "source": [
    "* Even for 1993 my smart phone can not enter the %1 of the TOP500\n",
    "* My laptop can enter the %1 of TOP500 in 1996 (November) as #5"
   ]
  },
  {
   "cell_type": "markdown",
   "metadata": {},
   "source": [
    "|            | Your model | performance | Top500 year | number 1 HPC system | number of processors (TOP500) |\n",
    "  | ---------- | ---------- | ----------- | ----------- | ------------------- | ----------------------------- |\n",
    "  | SmartPhone |iPhone 6, Apple A8 (CPU)  |2.58 GLOPS   |  Can not enter(1993) |  \tNumerical Wind Tunnel    |             140                  |\n",
    "  | Laptop     | Intel(R) Core(TM) i7-4720HQ  | 136.3 GLOPS   |  1996 (November)   | CP-PACS/2048          |2048                               |\n",
    "\n"
   ]
  }
 ],
 "metadata": {
  "kernelspec": {
   "display_name": "Python 3",
   "language": "python",
   "name": "python3"
  },
  "language_info": {
   "codemirror_mode": {
    "name": "ipython",
    "version": 3
   },
   "file_extension": ".py",
   "mimetype": "text/x-python",
   "name": "python",
   "nbconvert_exporter": "python",
   "pygments_lexer": "ipython3",
   "version": "3.6.9"
  }
 },
 "nbformat": 4,
 "nbformat_minor": 2
}

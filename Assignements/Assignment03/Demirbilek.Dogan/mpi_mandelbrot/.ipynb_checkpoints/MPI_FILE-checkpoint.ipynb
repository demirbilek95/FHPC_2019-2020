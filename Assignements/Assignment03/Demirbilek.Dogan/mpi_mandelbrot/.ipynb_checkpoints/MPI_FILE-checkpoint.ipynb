{
 "cells": [
  {
   "cell_type": "code",
   "execution_count": null,
   "metadata": {},
   "outputs": [],
   "source": [
    "from mpi4py import MPI\n",
    "import numpy as np\n",
    "\n",
    "comm = MPI.COMM_WORLD\n",
    "rank = comm.Get_rank()\n",
    "size = comm.Get_size()\n",
    "\n",
    "amode = MPI.MODE_WRONLY|MPI.MODE_CREATE\n",
    "fh = MPI.File.Open(comm, \"noncontiginious\", amode)\n",
    "\n",
    "item_count = 10\n",
    "\n",
    "buffer = np.empty(item_count, dtype='i')\n",
    "buffer[:] = rank\n",
    "\n",
    "filetype = MPI.INT.Create_vector(item_count, 1, size)\n",
    "filetype.Commit()\n",
    "\n",
    "displacement = MPI.INT.Get_size()*rank\n",
    "fh.Set_view(displacement, filetype=filetype)\n",
    "\n",
    "fh.Write_all(buffer)\n",
    "filetype.Free()\n",
    "fh.Close()"
   ]
  },
  {
   "cell_type": "code",
   "execution_count": 50,
   "metadata": {},
   "outputs": [
    {
     "name": "stdout",
     "output_type": "stream",
     "text": [
      "[0 0 0 0 0 0 0 0 0 0]\n",
      "[1 1 1 1 1 1 1 1 1 1]\n",
      "[2 2 2 2 2 2 2 2 2 2]\n",
      "[3 3 3 3 3 3 3 3 3 3]\n"
     ]
    }
   ],
   "source": [
    "item_count = 10\n",
    "\n",
    "for i in range(4):\n",
    "\n",
    "    buffer = np.empty(item_count, dtype='i')\n",
    "    buffer[:] = i\n",
    "    print(buffer)"
   ]
  },
  {
   "cell_type": "code",
   "execution_count": 51,
   "metadata": {},
   "outputs": [
    {
     "data": {
      "text/plain": [
       "10"
      ]
     },
     "execution_count": 51,
     "metadata": {},
     "output_type": "execute_result"
    }
   ],
   "source": [
    "len(buffer)"
   ]
  },
  {
   "cell_type": "code",
   "execution_count": 53,
   "metadata": {},
   "outputs": [],
   "source": [
    "filetype = MPI.INT.Create_vector(item_count, 1, 4)"
   ]
  },
  {
   "cell_type": "code",
   "execution_count": 56,
   "metadata": {},
   "outputs": [],
   "source": [
    "?MPI.INT.Create_vector"
   ]
  },
  {
   "cell_type": "code",
   "execution_count": null,
   "metadata": {},
   "outputs": [],
   "source": [
    "fh.Re"
   ]
  },
  {
   "cell_type": "code",
   "execution_count": 61,
   "metadata": {},
   "outputs": [],
   "source": [
    "nx, ny = 500 ,500\n",
    "\n",
    "array = np.ones((nx,ny), dtype=np.int)"
   ]
  },
  {
   "cell_type": "code",
   "execution_count": 85,
   "metadata": {},
   "outputs": [],
   "source": [
    "?MPI.FLOAT.Create_vector"
   ]
  },
  {
   "cell_type": "code",
   "execution_count": 65,
   "metadata": {},
   "outputs": [],
   "source": [
    "MPI.DOUBLE.Create_vector?"
   ]
  },
  {
   "cell_type": "code",
   "execution_count": 66,
   "metadata": {},
   "outputs": [
    {
     "data": {
      "text/plain": [
       "8"
      ]
     },
     "execution_count": 66,
     "metadata": {},
     "output_type": "execute_result"
    }
   ],
   "source": [
    "MPI.DOUBLE.Get_size()"
   ]
  },
  {
   "cell_type": "code",
   "execution_count": 69,
   "metadata": {},
   "outputs": [
    {
     "data": {
      "text/plain": [
       "16"
      ]
     },
     "execution_count": 69,
     "metadata": {},
     "output_type": "execute_result"
    }
   ],
   "source": [
    "MPI.FLOAT.Get_size()*4"
   ]
  },
  {
   "cell_type": "code",
   "execution_count": 73,
   "metadata": {},
   "outputs": [],
   "source": [
    "nx, ny, xL, yL, xR, yR, Imax  =500, 500, -2, -2, +2, +2, 1000\n",
    "\n",
    "plane_coordinates = np.zeros(4, dtype='d') \n",
    "pixel_maxiter = np.zeros(3, dtype='i')\n",
    "\n",
    "plane_coordinates[:] = [xL, xR, yL, yR]\n",
    "pixel_maxiter[:] = [nx, ny, Imax]"
   ]
  },
  {
   "cell_type": "code",
   "execution_count": 87,
   "metadata": {},
   "outputs": [
    {
     "data": {
      "text/plain": [
       "8"
      ]
     },
     "execution_count": 87,
     "metadata": {},
     "output_type": "execute_result"
    }
   ],
   "source": [
    "MPI.DOUBLE.Get_size()"
   ]
  },
  {
   "cell_type": "code",
   "execution_count": 88,
   "metadata": {
    "scrolled": false
   },
   "outputs": [
    {
     "data": {
      "text/plain": [
       "['AINT',\n",
       " 'ANY_SOURCE',\n",
       " 'ANY_TAG',\n",
       " 'APPNUM',\n",
       " 'Add_error_class',\n",
       " 'Add_error_code',\n",
       " 'Add_error_string',\n",
       " 'Aint_add',\n",
       " 'Aint_diff',\n",
       " 'Alloc_mem',\n",
       " 'Attach_buffer',\n",
       " 'BAND',\n",
       " 'BOOL',\n",
       " 'BOR',\n",
       " 'BOTTOM',\n",
       " 'BSEND_OVERHEAD',\n",
       " 'BXOR',\n",
       " 'BYTE',\n",
       " 'CART',\n",
       " 'CHAR',\n",
       " 'CHARACTER',\n",
       " 'COMBINER_CONTIGUOUS',\n",
       " 'COMBINER_DARRAY',\n",
       " 'COMBINER_DUP',\n",
       " 'COMBINER_F90_COMPLEX',\n",
       " 'COMBINER_F90_INTEGER',\n",
       " 'COMBINER_F90_REAL',\n",
       " 'COMBINER_HINDEXED',\n",
       " 'COMBINER_HINDEXED_BLOCK',\n",
       " 'COMBINER_HVECTOR',\n",
       " 'COMBINER_INDEXED',\n",
       " 'COMBINER_INDEXED_BLOCK',\n",
       " 'COMBINER_NAMED',\n",
       " 'COMBINER_RESIZED',\n",
       " 'COMBINER_STRUCT',\n",
       " 'COMBINER_SUBARRAY',\n",
       " 'COMBINER_VECTOR',\n",
       " 'COMM_NULL',\n",
       " 'COMM_SELF',\n",
       " 'COMM_TYPE_SHARED',\n",
       " 'COMM_WORLD',\n",
       " 'COMPLEX',\n",
       " 'COMPLEX16',\n",
       " 'COMPLEX32',\n",
       " 'COMPLEX4',\n",
       " 'COMPLEX8',\n",
       " 'CONGRUENT',\n",
       " 'COUNT',\n",
       " 'CXX_BOOL',\n",
       " 'CXX_DOUBLE_COMPLEX',\n",
       " 'CXX_FLOAT_COMPLEX',\n",
       " 'CXX_LONG_DOUBLE_COMPLEX',\n",
       " 'C_BOOL',\n",
       " 'C_COMPLEX',\n",
       " 'C_DOUBLE_COMPLEX',\n",
       " 'C_FLOAT_COMPLEX',\n",
       " 'C_LONG_DOUBLE_COMPLEX',\n",
       " 'Cartcomm',\n",
       " 'Close_port',\n",
       " 'Comm',\n",
       " 'Compute_dims',\n",
       " 'DATATYPE_NULL',\n",
       " 'DISPLACEMENT_CURRENT',\n",
       " 'DISP_CUR',\n",
       " 'DISTRIBUTE_BLOCK',\n",
       " 'DISTRIBUTE_CYCLIC',\n",
       " 'DISTRIBUTE_DFLT_DARG',\n",
       " 'DISTRIBUTE_NONE',\n",
       " 'DIST_GRAPH',\n",
       " 'DOUBLE',\n",
       " 'DOUBLE_COMPLEX',\n",
       " 'DOUBLE_INT',\n",
       " 'DOUBLE_PRECISION',\n",
       " 'Datatype',\n",
       " 'Detach_buffer',\n",
       " 'Distgraphcomm',\n",
       " 'ERRHANDLER_NULL',\n",
       " 'ERRORS_ARE_FATAL',\n",
       " 'ERRORS_RETURN',\n",
       " 'ERR_ACCESS',\n",
       " 'ERR_AMODE',\n",
       " 'ERR_ARG',\n",
       " 'ERR_ASSERT',\n",
       " 'ERR_BAD_FILE',\n",
       " 'ERR_BASE',\n",
       " 'ERR_BUFFER',\n",
       " 'ERR_COMM',\n",
       " 'ERR_CONVERSION',\n",
       " 'ERR_COUNT',\n",
       " 'ERR_DIMS',\n",
       " 'ERR_DISP',\n",
       " 'ERR_DUP_DATAREP',\n",
       " 'ERR_FILE',\n",
       " 'ERR_FILE_EXISTS',\n",
       " 'ERR_FILE_IN_USE',\n",
       " 'ERR_GROUP',\n",
       " 'ERR_INFO',\n",
       " 'ERR_INFO_KEY',\n",
       " 'ERR_INFO_NOKEY',\n",
       " 'ERR_INFO_VALUE',\n",
       " 'ERR_INTERN',\n",
       " 'ERR_IN_STATUS',\n",
       " 'ERR_IO',\n",
       " 'ERR_KEYVAL',\n",
       " 'ERR_LASTCODE',\n",
       " 'ERR_LOCKTYPE',\n",
       " 'ERR_NAME',\n",
       " 'ERR_NOT_SAME',\n",
       " 'ERR_NO_MEM',\n",
       " 'ERR_NO_SPACE',\n",
       " 'ERR_NO_SUCH_FILE',\n",
       " 'ERR_OP',\n",
       " 'ERR_OTHER',\n",
       " 'ERR_PENDING',\n",
       " 'ERR_PORT',\n",
       " 'ERR_QUOTA',\n",
       " 'ERR_RANK',\n",
       " 'ERR_READ_ONLY',\n",
       " 'ERR_REQUEST',\n",
       " 'ERR_RMA_ATTACH',\n",
       " 'ERR_RMA_CONFLICT',\n",
       " 'ERR_RMA_FLAVOR',\n",
       " 'ERR_RMA_RANGE',\n",
       " 'ERR_RMA_SHARED',\n",
       " 'ERR_RMA_SYNC',\n",
       " 'ERR_ROOT',\n",
       " 'ERR_SERVICE',\n",
       " 'ERR_SIZE',\n",
       " 'ERR_SPAWN',\n",
       " 'ERR_TAG',\n",
       " 'ERR_TOPOLOGY',\n",
       " 'ERR_TRUNCATE',\n",
       " 'ERR_TYPE',\n",
       " 'ERR_UNKNOWN',\n",
       " 'ERR_UNSUPPORTED_DATAREP',\n",
       " 'ERR_UNSUPPORTED_OPERATION',\n",
       " 'ERR_WIN',\n",
       " 'Errhandler',\n",
       " 'Exception',\n",
       " 'FILE_NULL',\n",
       " 'FLOAT',\n",
       " 'FLOAT_INT',\n",
       " 'F_BOOL',\n",
       " 'F_COMPLEX',\n",
       " 'F_DOUBLE',\n",
       " 'F_DOUBLE_COMPLEX',\n",
       " 'F_FLOAT',\n",
       " 'F_FLOAT_COMPLEX',\n",
       " 'F_INT',\n",
       " 'File',\n",
       " 'Finalize',\n",
       " 'Free_mem',\n",
       " 'GRAPH',\n",
       " 'GROUP_EMPTY',\n",
       " 'GROUP_NULL',\n",
       " 'Get_address',\n",
       " 'Get_error_class',\n",
       " 'Get_error_string',\n",
       " 'Get_library_version',\n",
       " 'Get_processor_name',\n",
       " 'Get_version',\n",
       " 'Graphcomm',\n",
       " 'Grequest',\n",
       " 'Group',\n",
       " 'HOST',\n",
       " 'IDENT',\n",
       " 'INFO_ENV',\n",
       " 'INFO_NULL',\n",
       " 'INT',\n",
       " 'INT16_T',\n",
       " 'INT32_T',\n",
       " 'INT64_T',\n",
       " 'INT8_T',\n",
       " 'INTEGER',\n",
       " 'INTEGER1',\n",
       " 'INTEGER16',\n",
       " 'INTEGER2',\n",
       " 'INTEGER4',\n",
       " 'INTEGER8',\n",
       " 'INT_INT',\n",
       " 'IN_PLACE',\n",
       " 'IO',\n",
       " 'Info',\n",
       " 'Init',\n",
       " 'Init_thread',\n",
       " 'Intercomm',\n",
       " 'Intracomm',\n",
       " 'Is_finalized',\n",
       " 'Is_initialized',\n",
       " 'Is_thread_main',\n",
       " 'KEYVAL_INVALID',\n",
       " 'LAND',\n",
       " 'LASTUSEDCODE',\n",
       " 'LB',\n",
       " 'LOCK_EXCLUSIVE',\n",
       " 'LOCK_SHARED',\n",
       " 'LOGICAL',\n",
       " 'LOGICAL1',\n",
       " 'LOGICAL2',\n",
       " 'LOGICAL4',\n",
       " 'LOGICAL8',\n",
       " 'LONG',\n",
       " 'LONG_DOUBLE',\n",
       " 'LONG_DOUBLE_INT',\n",
       " 'LONG_INT',\n",
       " 'LONG_LONG',\n",
       " 'LOR',\n",
       " 'LXOR',\n",
       " 'Lookup_name',\n",
       " 'MAX',\n",
       " 'MAXLOC',\n",
       " 'MAX_DATAREP_STRING',\n",
       " 'MAX_ERROR_STRING',\n",
       " 'MAX_INFO_KEY',\n",
       " 'MAX_INFO_VAL',\n",
       " 'MAX_LIBRARY_VERSION_STRING',\n",
       " 'MAX_OBJECT_NAME',\n",
       " 'MAX_PORT_NAME',\n",
       " 'MAX_PROCESSOR_NAME',\n",
       " 'MESSAGE_NO_PROC',\n",
       " 'MESSAGE_NULL',\n",
       " 'MIN',\n",
       " 'MINLOC',\n",
       " 'MODE_APPEND',\n",
       " 'MODE_CREATE',\n",
       " 'MODE_DELETE_ON_CLOSE',\n",
       " 'MODE_EXCL',\n",
       " 'MODE_NOCHECK',\n",
       " 'MODE_NOPRECEDE',\n",
       " 'MODE_NOPUT',\n",
       " 'MODE_NOSTORE',\n",
       " 'MODE_NOSUCCEED',\n",
       " 'MODE_RDONLY',\n",
       " 'MODE_RDWR',\n",
       " 'MODE_SEQUENTIAL',\n",
       " 'MODE_UNIQUE_OPEN',\n",
       " 'MODE_WRONLY',\n",
       " 'Message',\n",
       " 'NO_OP',\n",
       " 'OFFSET',\n",
       " 'OP_NULL',\n",
       " 'ORDER_C',\n",
       " 'ORDER_F',\n",
       " 'ORDER_FORTRAN',\n",
       " 'Op',\n",
       " 'Open_port',\n",
       " 'PACKED',\n",
       " 'PROC_NULL',\n",
       " 'PROD',\n",
       " 'Pcontrol',\n",
       " 'Prequest',\n",
       " 'Publish_name',\n",
       " 'Query_thread',\n",
       " 'REAL',\n",
       " 'REAL16',\n",
       " 'REAL2',\n",
       " 'REAL4',\n",
       " 'REAL8',\n",
       " 'REPLACE',\n",
       " 'REQUEST_NULL',\n",
       " 'ROOT',\n",
       " 'Register_datarep',\n",
       " 'Request',\n",
       " 'SEEK_CUR',\n",
       " 'SEEK_END',\n",
       " 'SEEK_SET',\n",
       " 'SHORT',\n",
       " 'SHORT_INT',\n",
       " 'SIGNED_CHAR',\n",
       " 'SIGNED_INT',\n",
       " 'SIGNED_LONG',\n",
       " 'SIGNED_LONG_LONG',\n",
       " 'SIGNED_SHORT',\n",
       " 'SIMILAR',\n",
       " 'SINT16_T',\n",
       " 'SINT32_T',\n",
       " 'SINT64_T',\n",
       " 'SINT8_T',\n",
       " 'SUBVERSION',\n",
       " 'SUCCESS',\n",
       " 'SUM',\n",
       " 'Status',\n",
       " 'TAG_UB',\n",
       " 'THREAD_FUNNELED',\n",
       " 'THREAD_MULTIPLE',\n",
       " 'THREAD_SERIALIZED',\n",
       " 'THREAD_SINGLE',\n",
       " 'TWOINT',\n",
       " 'TYPECLASS_COMPLEX',\n",
       " 'TYPECLASS_INTEGER',\n",
       " 'TYPECLASS_REAL',\n",
       " 'Topocomm',\n",
       " 'UB',\n",
       " 'UINT16_T',\n",
       " 'UINT32_T',\n",
       " 'UINT64_T',\n",
       " 'UINT8_T',\n",
       " 'UNDEFINED',\n",
       " 'UNEQUAL',\n",
       " 'UNIVERSE_SIZE',\n",
       " 'UNSIGNED',\n",
       " 'UNSIGNED_CHAR',\n",
       " 'UNSIGNED_INT',\n",
       " 'UNSIGNED_LONG',\n",
       " 'UNSIGNED_LONG_LONG',\n",
       " 'UNSIGNED_SHORT',\n",
       " 'UNWEIGHTED',\n",
       " 'Unpublish_name',\n",
       " 'VERSION',\n",
       " 'WCHAR',\n",
       " 'WEIGHTS_EMPTY',\n",
       " 'WIN_BASE',\n",
       " 'WIN_CREATE_FLAVOR',\n",
       " 'WIN_DISP_UNIT',\n",
       " 'WIN_FLAVOR',\n",
       " 'WIN_FLAVOR_ALLOCATE',\n",
       " 'WIN_FLAVOR_CREATE',\n",
       " 'WIN_FLAVOR_DYNAMIC',\n",
       " 'WIN_FLAVOR_SHARED',\n",
       " 'WIN_MODEL',\n",
       " 'WIN_NULL',\n",
       " 'WIN_SEPARATE',\n",
       " 'WIN_SIZE',\n",
       " 'WIN_UNIFIED',\n",
       " 'WTIME_IS_GLOBAL',\n",
       " 'Win',\n",
       " 'Wtick',\n",
       " 'Wtime',\n",
       " '__builtins__',\n",
       " '__doc__',\n",
       " '__file__',\n",
       " '__loader__',\n",
       " '__name__',\n",
       " '__package__',\n",
       " '__pyx_capi__',\n",
       " '__spec__',\n",
       " '_addressof',\n",
       " '_handleof',\n",
       " '_keyval_registry',\n",
       " '_lock_table',\n",
       " '_set_abort_status',\n",
       " '_sizeof',\n",
       " '_typecode',\n",
       " '_typedict',\n",
       " '_typedict_c',\n",
       " '_typedict_f',\n",
       " 'get_vendor',\n",
       " 'memory',\n",
       " 'pickle']"
      ]
     },
     "execution_count": 88,
     "metadata": {},
     "output_type": "execute_result"
    }
   ],
   "source": [
    "dir(MPI)"
   ]
  },
  {
   "cell_type": "code",
   "execution_count": 90,
   "metadata": {},
   "outputs": [
    {
     "data": {
      "text/plain": [
       "['Commit',\n",
       " 'Create_contiguous',\n",
       " 'Create_darray',\n",
       " 'Create_dup',\n",
       " 'Create_f90_complex',\n",
       " 'Create_f90_integer',\n",
       " 'Create_f90_real',\n",
       " 'Create_hindexed',\n",
       " 'Create_hindexed_block',\n",
       " 'Create_hvector',\n",
       " 'Create_indexed',\n",
       " 'Create_indexed_block',\n",
       " 'Create_keyval',\n",
       " 'Create_resized',\n",
       " 'Create_struct',\n",
       " 'Create_subarray',\n",
       " 'Create_vector',\n",
       " 'Delete_attr',\n",
       " 'Dup',\n",
       " 'Free',\n",
       " 'Free_keyval',\n",
       " 'Get_attr',\n",
       " 'Get_contents',\n",
       " 'Get_envelope',\n",
       " 'Get_extent',\n",
       " 'Get_name',\n",
       " 'Get_size',\n",
       " 'Get_true_extent',\n",
       " 'Match_size',\n",
       " 'Pack',\n",
       " 'Pack_external',\n",
       " 'Pack_external_size',\n",
       " 'Pack_size',\n",
       " 'Resized',\n",
       " 'Set_attr',\n",
       " 'Set_name',\n",
       " 'Unpack',\n",
       " 'Unpack_external',\n",
       " '__bool__',\n",
       " '__class__',\n",
       " '__delattr__',\n",
       " '__dir__',\n",
       " '__doc__',\n",
       " '__eq__',\n",
       " '__format__',\n",
       " '__ge__',\n",
       " '__getattribute__',\n",
       " '__gt__',\n",
       " '__hash__',\n",
       " '__init__',\n",
       " '__init_subclass__',\n",
       " '__le__',\n",
       " '__lt__',\n",
       " '__ne__',\n",
       " '__new__',\n",
       " '__reduce__',\n",
       " '__reduce_ex__',\n",
       " '__repr__',\n",
       " '__setattr__',\n",
       " '__sizeof__',\n",
       " '__str__',\n",
       " '__subclasshook__',\n",
       " 'combiner',\n",
       " 'contents',\n",
       " 'decode',\n",
       " 'envelope',\n",
       " 'extent',\n",
       " 'f2py',\n",
       " 'is_named',\n",
       " 'is_predefined',\n",
       " 'lb',\n",
       " 'name',\n",
       " 'py2f',\n",
       " 'size',\n",
       " 'true_extent',\n",
       " 'true_lb',\n",
       " 'true_ub',\n",
       " 'ub']"
      ]
     },
     "execution_count": 90,
     "metadata": {},
     "output_type": "execute_result"
    }
   ],
   "source": [
    "dir(MPI.DOUBLE)"
   ]
  },
  {
   "cell_type": "code",
   "execution_count": 101,
   "metadata": {},
   "outputs": [
    {
     "name": "stdout",
     "output_type": "stream",
     "text": [
      "Help on built-in function Write_all:\n",
      "\n",
      "Write_all(...) method of mpi4py.MPI.File instance\n",
      "    File.Write_all(self, buf, Status status=None)\n",
      "    \n",
      "    Collective write using individual file pointer\n",
      "\n"
     ]
    }
   ],
   "source": [
    "help(fh.Write_all)"
   ]
  },
  {
   "cell_type": "code",
   "execution_count": 103,
   "metadata": {},
   "outputs": [
    {
     "name": "stdout",
     "output_type": "stream",
     "text": [
      "Help on built-in function Write_at:\n",
      "\n",
      "Write_at(...) method of mpi4py.MPI.File instance\n",
      "    File.Write_at(self, Offset offset, buf, Status status=None)\n",
      "    \n",
      "    Write using explicit offset\n",
      "\n"
     ]
    }
   ],
   "source": [
    "help(fh.Write_at)"
   ]
  },
  {
   "cell_type": "code",
   "execution_count": null,
   "metadata": {},
   "outputs": [],
   "source": []
  }
 ],
 "metadata": {
  "kernelspec": {
   "display_name": "Python 3",
   "language": "python",
   "name": "python3"
  },
  "language_info": {
   "codemirror_mode": {
    "name": "ipython",
    "version": 3
   },
   "file_extension": ".py",
   "mimetype": "text/x-python",
   "name": "python",
   "nbconvert_exporter": "python",
   "pygments_lexer": "ipython3",
   "version": "3.6.9"
  }
 },
 "nbformat": 4,
 "nbformat_minor": 2
}

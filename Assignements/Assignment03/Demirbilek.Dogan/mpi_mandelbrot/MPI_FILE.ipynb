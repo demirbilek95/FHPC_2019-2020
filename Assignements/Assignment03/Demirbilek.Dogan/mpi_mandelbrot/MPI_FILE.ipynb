{
 "cells": [
  {
   "cell_type": "code",
   "execution_count": 1,
   "metadata": {},
   "outputs": [],
   "source": [
    "from mpi4py import MPI\n",
    "import numpy as np\n",
    "\n",
    "comm = MPI.COMM_WORLD\n",
    "rank = comm.Get_rank()\n",
    "size = comm.Get_size()\n",
    "\n",
    "amode = MPI.MODE_WRONLY|MPI.MODE_CREATE\n",
    "fh = MPI.File.Open(comm, \"noncontiginious\", amode)\n",
    "\n",
    "item_count = 10\n",
    "\n",
    "buffer = np.empty(item_count, dtype='i')\n",
    "buffer[:] = rank\n",
    "\n",
    "filetype = MPI.INT.Create_vector(item_count, 1, size)\n",
    "filetype.Commit()\n",
    "\n",
    "displacement = MPI.INT.Get_size()*rank\n",
    "fh.Set_view(displacement, filetype=filetype)\n",
    "\n",
    "fh.Write_all(buffer)\n",
    "filetype.Free()\n",
    "fh.Close()"
   ]
  },
  {
   "cell_type": "code",
   "execution_count": 50,
   "metadata": {},
   "outputs": [
    {
     "name": "stdout",
     "output_type": "stream",
     "text": [
      "[0 0 0 0 0 0 0 0 0 0]\n",
      "[1 1 1 1 1 1 1 1 1 1]\n",
      "[2 2 2 2 2 2 2 2 2 2]\n",
      "[3 3 3 3 3 3 3 3 3 3]\n"
     ]
    }
   ],
   "source": [
    "item_count = 10\n",
    "\n",
    "for i in range(4):\n",
    "\n",
    "    buffer = np.empty(item_count, dtype='i')\n",
    "    buffer[:] = i\n",
    "    print(buffer)"
   ]
  },
  {
   "cell_type": "code",
   "execution_count": 51,
   "metadata": {},
   "outputs": [
    {
     "data": {
      "text/plain": [
       "10"
      ]
     },
     "execution_count": 51,
     "metadata": {},
     "output_type": "execute_result"
    }
   ],
   "source": [
    "len(buffer)"
   ]
  },
  {
   "cell_type": "code",
   "execution_count": 53,
   "metadata": {},
   "outputs": [],
   "source": [
    "filetype = MPI.INT.Sub(item_count, 1, 4)"
   ]
  },
  {
   "cell_type": "code",
   "execution_count": 56,
   "metadata": {},
   "outputs": [],
   "source": [
    "?MPI.INT.Create_vector"
   ]
  },
  {
   "cell_type": "code",
   "execution_count": null,
   "metadata": {},
   "outputs": [],
   "source": [
    "fh.Re"
   ]
  },
  {
   "cell_type": "code",
   "execution_count": 61,
   "metadata": {},
   "outputs": [],
   "source": [
    "nx, ny = 500 ,500\n",
    "\n",
    "array = np.ones((nx,ny), dtype=np.int)"
   ]
  },
  {
   "cell_type": "code",
   "execution_count": 85,
   "metadata": {},
   "outputs": [],
   "source": [
    "?MPI.FLOAT.Create_vector"
   ]
  },
  {
   "cell_type": "code",
   "execution_count": 65,
   "metadata": {},
   "outputs": [],
   "source": [
    "MPI.DOUBLE.Create_vector?"
   ]
  },
  {
   "cell_type": "code",
   "execution_count": 66,
   "metadata": {},
   "outputs": [
    {
     "data": {
      "text/plain": [
       "8"
      ]
     },
     "execution_count": 66,
     "metadata": {},
     "output_type": "execute_result"
    }
   ],
   "source": [
    "MPI.DOUBLE.Get_size()"
   ]
  },
  {
   "cell_type": "code",
   "execution_count": 69,
   "metadata": {},
   "outputs": [
    {
     "data": {
      "text/plain": [
       "16"
      ]
     },
     "execution_count": 69,
     "metadata": {},
     "output_type": "execute_result"
    }
   ],
   "source": [
    "MPI.FLOAT.Get_size()*4"
   ]
  },
  {
   "cell_type": "code",
   "execution_count": 73,
   "metadata": {},
   "outputs": [],
   "source": [
    "nx, ny, xL, yL, xR, yR, Imax  =500, 500, -2, -2, +2, +2, 1000\n",
    "\n",
    "plane_coordinates = np.zeros(4, dtype='d') \n",
    "pixel_maxiter = np.zeros(3, dtype='i')\n",
    "\n",
    "plane_coordinates[:] = [xL, xR, yL, yR]\n",
    "pixel_maxiter[:] = [nx, ny, Imax]"
   ]
  },
  {
   "cell_type": "code",
   "execution_count": 87,
   "metadata": {},
   "outputs": [
    {
     "data": {
      "text/plain": [
       "8"
      ]
     },
     "execution_count": 87,
     "metadata": {},
     "output_type": "execute_result"
    }
   ],
   "source": [
    "MPI.DOUBLE.Get_size()"
   ]
  },
  {
   "cell_type": "code",
   "execution_count": 109,
   "metadata": {},
   "outputs": [
    {
     "name": "stdout",
     "output_type": "stream",
     "text": [
      "Help on built-in function Write_at:\n",
      "\n",
      "Write_at(...) method of mpi4py.MPI.File instance\n",
      "    File.Write_at(self, Offset offset, buf, Status status=None)\n",
      "    \n",
      "    Write using explicit offset\n",
      "\n"
     ]
    }
   ],
   "source": [
    "help(fh.Write_at)"
   ]
  },
  {
   "cell_type": "code",
   "execution_count": 110,
   "metadata": {},
   "outputs": [
    {
     "name": "stdout",
     "output_type": "stream",
     "text": [
      "Help on built-in function Write_at_all:\n",
      "\n",
      "Write_at_all(...) method of mpi4py.MPI.File instance\n",
      "    File.Write_at_all(self, Offset offset, buf, Status status=None)\n",
      "    \n",
      "    Collective write using explicit offset\n",
      "\n"
     ]
    }
   ],
   "source": [
    "help(fh.Write_at_all)"
   ]
  },
  {
   "cell_type": "code",
   "execution_count": 113,
   "metadata": {},
   "outputs": [
    {
     "name": "stdout",
     "output_type": "stream",
     "text": [
      "Help on built-in function Set_view:\n",
      "\n",
      "Set_view(...) method of mpi4py.MPI.File instance\n",
      "    File.Set_view(self, Offset disp=0, Datatype etype=None, Datatype filetype=None, datarep=None, Info info=INFO_NULL)\n",
      "    \n",
      "    Set the file view\n",
      "\n"
     ]
    }
   ],
   "source": [
    "help(fh.Set_view)"
   ]
  },
  {
   "cell_type": "code",
   "execution_count": 132,
   "metadata": {},
   "outputs": [
    {
     "name": "stdout",
     "output_type": "stream",
     "text": [
      "Help on built-in function Create_subarray:\n",
      "\n",
      "Create_subarray(...) method of mpi4py.MPI.Datatype instance\n",
      "    Datatype.Create_subarray(self, sizes, subsizes, starts, int order=ORDER_C)\n",
      "    \n",
      "    Create a datatype for a subarray of\n",
      "    a regular, multidimensional array\n",
      "\n"
     ]
    }
   ],
   "source": [
    "help(MPI.INT.Create_subarray)"
   ]
  },
  {
   "cell_type": "code",
   "execution_count": 134,
   "metadata": {},
   "outputs": [
    {
     "name": "stdout",
     "output_type": "stream",
     "text": [
      "Help on built-in function Create_darray:\n",
      "\n",
      "Create_darray(...) method of mpi4py.MPI.Datatype instance\n",
      "    Datatype.Create_darray(self, int size, int rank, gsizes, distribs, dargs, psizes, int order=ORDER_C)\n",
      "    \n",
      "    Create a datatype representing an HPF-like\n",
      "    distributed array on Cartesian process grids\n",
      "\n"
     ]
    }
   ],
   "source": [
    "help(MPI.INT.Create_darray)"
   ]
  },
  {
   "cell_type": "code",
   "execution_count": 127,
   "metadata": {},
   "outputs": [],
   "source": [
    "array = np.ones((nx,ny), dtype=np.int)"
   ]
  },
  {
   "cell_type": "code",
   "execution_count": 128,
   "metadata": {},
   "outputs": [
    {
     "data": {
      "text/plain": [
       "array([[1, 1, 1, ..., 1, 1, 1],\n",
       "       [1, 1, 1, ..., 1, 1, 1],\n",
       "       [1, 1, 1, ..., 1, 1, 1],\n",
       "       ...,\n",
       "       [1, 1, 1, ..., 1, 1, 1],\n",
       "       [1, 1, 1, ..., 1, 1, 1],\n",
       "       [1, 1, 1, ..., 1, 1, 1]])"
      ]
     },
     "execution_count": 128,
     "metadata": {},
     "output_type": "execute_result"
    }
   ],
   "source": [
    "array"
   ]
  },
  {
   "cell_type": "code",
   "execution_count": 131,
   "metadata": {},
   "outputs": [
    {
     "data": {
      "text/plain": [
       "500"
      ]
     },
     "execution_count": 131,
     "metadata": {},
     "output_type": "execute_result"
    }
   ],
   "source": [
    "array.shape[0]"
   ]
  },
  {
   "cell_type": "code",
   "execution_count": null,
   "metadata": {},
   "outputs": [],
   "source": [
    "help(MPI.INT.)"
   ]
  },
  {
   "cell_type": "code",
   "execution_count": 138,
   "metadata": {},
   "outputs": [
    {
     "data": {
      "text/plain": [
       "['__abs__',\n",
       " '__add__',\n",
       " '__and__',\n",
       " '__bool__',\n",
       " '__ceil__',\n",
       " '__class__',\n",
       " '__delattr__',\n",
       " '__dir__',\n",
       " '__divmod__',\n",
       " '__doc__',\n",
       " '__eq__',\n",
       " '__float__',\n",
       " '__floor__',\n",
       " '__floordiv__',\n",
       " '__format__',\n",
       " '__ge__',\n",
       " '__getattribute__',\n",
       " '__getnewargs__',\n",
       " '__gt__',\n",
       " '__hash__',\n",
       " '__index__',\n",
       " '__init__',\n",
       " '__init_subclass__',\n",
       " '__int__',\n",
       " '__invert__',\n",
       " '__le__',\n",
       " '__lshift__',\n",
       " '__lt__',\n",
       " '__mod__',\n",
       " '__mul__',\n",
       " '__ne__',\n",
       " '__neg__',\n",
       " '__new__',\n",
       " '__or__',\n",
       " '__pos__',\n",
       " '__pow__',\n",
       " '__radd__',\n",
       " '__rand__',\n",
       " '__rdivmod__',\n",
       " '__reduce__',\n",
       " '__reduce_ex__',\n",
       " '__repr__',\n",
       " '__rfloordiv__',\n",
       " '__rlshift__',\n",
       " '__rmod__',\n",
       " '__rmul__',\n",
       " '__ror__',\n",
       " '__round__',\n",
       " '__rpow__',\n",
       " '__rrshift__',\n",
       " '__rshift__',\n",
       " '__rsub__',\n",
       " '__rtruediv__',\n",
       " '__rxor__',\n",
       " '__setattr__',\n",
       " '__sizeof__',\n",
       " '__str__',\n",
       " '__sub__',\n",
       " '__subclasshook__',\n",
       " '__truediv__',\n",
       " '__trunc__',\n",
       " '__xor__',\n",
       " 'bit_length',\n",
       " 'conjugate',\n",
       " 'denominator',\n",
       " 'from_bytes',\n",
       " 'imag',\n",
       " 'numerator',\n",
       " 'real',\n",
       " 'to_bytes']"
      ]
     },
     "execution_count": 138,
     "metadata": {},
     "output_type": "execute_result"
    }
   ],
   "source": [
    "dir(100)"
   ]
  },
  {
   "cell_type": "code",
   "execution_count": 140,
   "metadata": {},
   "outputs": [
    {
     "ename": "SyntaxError",
     "evalue": "invalid syntax (<ipython-input-140-42d2c8fe0398>, line 1)",
     "output_type": "error",
     "traceback": [
      "\u001b[0;36m  File \u001b[0;32m\"<ipython-input-140-42d2c8fe0398>\"\u001b[0;36m, line \u001b[0;32m1\u001b[0m\n\u001b[0;31m    100.to_bytes()\u001b[0m\n\u001b[0m               ^\u001b[0m\n\u001b[0;31mSyntaxError\u001b[0m\u001b[0;31m:\u001b[0m invalid syntax\n"
     ]
    }
   ],
   "source": [
    "100.to_bytes()"
   ]
  },
  {
   "cell_type": "code",
   "execution_count": 145,
   "metadata": {},
   "outputs": [
    {
     "data": {
      "text/plain": [
       "8"
      ]
     },
     "execution_count": 145,
     "metadata": {},
     "output_type": "execute_result"
    }
   ],
   "source": [
    "np.array([100],dtype=np.int).nbytes"
   ]
  },
  {
   "cell_type": "code",
   "execution_count": 146,
   "metadata": {},
   "outputs": [
    {
     "data": {
      "text/plain": [
       "8"
      ]
     },
     "execution_count": 146,
     "metadata": {},
     "output_type": "execute_result"
    }
   ],
   "source": [
    "np.array([500],dtype=np.int).nbytesarray = np.ones(nx*ny, dtype='i')"
   ]
  },
  {
   "cell_type": "code",
   "execution_count": 148,
   "metadata": {},
   "outputs": [
    {
     "data": {
      "text/plain": [
       "24"
      ]
     },
     "execution_count": 148,
     "metadata": {},
     "output_type": "execute_result"
    }
   ],
   "source": [
    "np.array([100,100,500]).nbytes"
   ]
  },
  {
   "cell_type": "code",
   "execution_count": 152,
   "metadata": {},
   "outputs": [],
   "source": [
    "array = np.ones([nx,ny], dtype='i')"
   ]
  },
  {
   "cell_type": "code",
   "execution_count": 153,
   "metadata": {},
   "outputs": [
    {
     "data": {
      "text/plain": [
       "array([[1, 1, 1, ..., 1, 1, 1],\n",
       "       [1, 1, 1, ..., 1, 1, 1],\n",
       "       [1, 1, 1, ..., 1, 1, 1],\n",
       "       ...,\n",
       "       [1, 1, 1, ..., 1, 1, 1],\n",
       "       [1, 1, 1, ..., 1, 1, 1],\n",
       "       [1, 1, 1, ..., 1, 1, 1]], dtype=int32)"
      ]
     },
     "execution_count": 153,
     "metadata": {},
     "output_type": "execute_result"
    }
   ],
   "source": [
    "array"
   ]
  },
  {
   "cell_type": "code",
   "execution_count": 151,
   "metadata": {},
   "outputs": [
    {
     "data": {
      "text/plain": [
       "(250000,)"
      ]
     },
     "execution_count": 151,
     "metadata": {},
     "output_type": "execute_result"
    }
   ],
   "source": [
    "array.reshape()"
   ]
  },
  {
   "cell_type": "code",
   "execution_count": 157,
   "metadata": {},
   "outputs": [
    {
     "data": {
      "text/plain": [
       "8.0"
      ]
     },
     "execution_count": 157,
     "metadata": {},
     "output_type": "execute_result"
    }
   ],
   "source": [
    "np.float64(8)"
   ]
  },
  {
   "cell_type": "code",
   "execution_count": 158,
   "metadata": {},
   "outputs": [
    {
     "name": "stdout",
     "output_type": "stream",
     "text": [
      "Running MPI Mandelbrot with 1 cores\n",
      "To assign paramters: mpirun -np 4 /home/john/anaconda3/envs/mpi_env/lib/python3.6/site-packages/ipykernel_launcher.py nx ny xL yL xR yR Imax \n",
      "\n",
      "Using default parameters nx = 500, ny = 500, xL = -2, yL = -2, xR = 2, yR = 2, Imax = 1000\n",
      "wall clock time of processor 0 is:    20.28 seconds\n"
     ]
    },
    {
     "data": {
      "image/png": "[encoded data removed]",
      "text/plain": [
       "<Figure size 432x288 with 1 Axes>"
      ]
     },
     "metadata": {
      "needs_background": "light"
     },
     "output_type": "display_data"
    }
   ],
   "source": [
    "## MPI IO Part\n",
    "\n",
    "# Broadcast the array that we are going to write with io\n",
    "comm.Bcast([M, MPI.INT], root=0)\n",
    "\n",
    "amode = MPI.MODE_WRONLY|MPI.MODE_CREATE\n",
    "fh = MPI.File.Open(comm, \"io_output\", amode)\n",
    "\n",
    "# Writing the coordinates\n",
    "\n",
    "buffer_1= plane_coordinates\n",
    "\n",
    "offset_1 = rank * plane_coordinates.nbytes // size\n",
    "\n",
    "#print(\"plane_coordinates\",plane_coordinates.nbytes)\n",
    "\n",
    "#print(\"rank\",rank,\"offset_1\",offset_1)\n",
    "\n",
    "fh.Set_view(offset_1,etype=MPI.DOUBLE)\n",
    "\n",
    "fh.Write_at_all(offset_1,buffer_1)\n",
    "\n",
    "# Writing the pixels\n",
    "\n",
    "buffer_2 = pixel_maxiter\n",
    "\n",
    "offset_2 = plane_coordinates.nbytes + rank * pixel_maxiter.nbytes // size\n",
    "#print(\"rank\",rank,\"offset_2\",offset_2)\n",
    "\n",
    "fh.Set_view(offset_2,etype=MPI.INT)\n",
    "\n",
    "fh.Write_at_all(offset_2,buffer_2)\n",
    "\n",
    "# Writing the matrix\n",
    "\n",
    "buffer_3 = M\n",
    "\n",
    "filetype = MPI.INT.Create_contiguous(M.shape[0])\n",
    "filetype.Commit()\n",
    "\n",
    "displacement = plane_coordinates.nbytes + pixel_maxiter.nbytes + rank * M.nbytes // size\n",
    "\n",
    "#print(\"rank\",rank,\"offset_3\",displacement)\n",
    "fh.Set_view(disp = displacement, etype = MPI.INT, filetype = filetype)\n",
    "\n",
    "fh.Write_at_all(displacement, buffer_3)\n",
    "\n",
    "filetype.Free()\n",
    "fh.Close()\n"
   ]
  },
  {
   "cell_type": "code",
   "execution_count": 159,
   "metadata": {},
   "outputs": [
    {
     "data": {
      "text/plain": [
       "500"
      ]
     },
     "execution_count": 159,
     "metadata": {},
     "output_type": "execute_result"
    }
   ],
   "source": [
    "nx"
   ]
  },
  {
   "cell_type": "code",
   "execution_count": 161,
   "metadata": {},
   "outputs": [],
   "source": [
    "plane_coordinates = np.zeros(4, dtype='d') \n",
    "pixel_maxiter = np.zeros(3, dtype='i')\n",
    "M = np.ones([500,500],dtype = 'i')"
   ]
  },
  {
   "cell_type": "code",
   "execution_count": 176,
   "metadata": {},
   "outputs": [],
   "source": [
    "size = 7"
   ]
  },
  {
   "cell_type": "code",
   "execution_count": 177,
   "metadata": {},
   "outputs": [
    {
     "data": {
      "text/plain": [
       "(32, 12, 1000000)"
      ]
     },
     "execution_count": 177,
     "metadata": {},
     "output_type": "execute_result"
    }
   ],
   "source": [
    "plane_coordinates.nbytes, pixel_maxiter.nbytes, M.nbytes"
   ]
  },
  {
   "cell_type": "code",
   "execution_count": 178,
   "metadata": {},
   "outputs": [
    {
     "name": "stdout",
     "output_type": "stream",
     "text": [
      "offset1 0\n",
      "offset2 32\n",
      "offset3 44\n",
      "offset1 4\n",
      "offset2 33\n",
      "offset3 142901\n",
      "offset1 9\n",
      "offset2 35\n",
      "offset3 285758\n",
      "offset1 13\n",
      "offset2 37\n",
      "offset3 428615\n",
      "offset1 18\n",
      "offset2 38\n",
      "offset3 571472\n",
      "offset1 22\n",
      "offset2 40\n",
      "offset3 714329\n",
      "offset1 27\n",
      "offset2 42\n",
      "offset3 857186\n"
     ]
    }
   ],
   "source": [
    "for rank in range(size):\n",
    "    print(\"offset1\",rank * plane_coordinates.nbytes // size)\n",
    "    print(\"offset2\",plane_coordinates.nbytes + rank * pixel_maxiter.nbytes // size)\n",
    "    print(\"offset3\",plane_coordinates.nbytes + pixel_maxiter.nbytes + rank * M.nbytes // size)\n",
    "    "
   ]
  },
  {
   "cell_type": "code",
   "execution_count": 179,
   "metadata": {},
   "outputs": [
    {
     "name": "stdout",
     "output_type": "stream",
     "text": [
      "0\n",
      "32\n",
      "44\n",
      "4\n",
      "33\n",
      "142901\n",
      "9\n",
      "35\n",
      "285758\n",
      "13\n",
      "37\n",
      "428615\n",
      "18\n",
      "38\n",
      "571472\n",
      "22\n",
      "40\n",
      "714329\n",
      "27\n",
      "42\n",
      "857186\n"
     ]
    }
   ],
   "source": [
    "for rank in range(size):\n",
    "    print(rank * plane_coordinates.nbytes // size)\n",
    "    print(plane_coordinates.nbytes + rank * pixel_maxiter.nbytes // size)\n",
    "    print(plane_coordinates.nbytes + pixel_maxiter.nbytes + rank * array.nbytes // size)"
   ]
  },
  {
   "cell_type": "code",
   "execution_count": 2,
   "metadata": {},
   "outputs": [
    {
     "name": "stdout",
     "output_type": "stream",
     "text": [
      "Help on built-in function Create_contiguous:\n",
      "\n",
      "Create_contiguous(...) method of mpi4py.MPI.Datatype instance\n",
      "    Datatype.Create_contiguous(self, int count)\n",
      "    \n",
      "    Create a contiguous datatype\n",
      "\n"
     ]
    }
   ],
   "source": [
    "help(MPI.INT.Create_contiguous)"
   ]
  },
  {
   "cell_type": "code",
   "execution_count": 4,
   "metadata": {},
   "outputs": [
    {
     "name": "stdout",
     "output_type": "stream",
     "text": [
      "Help on built-in function Set_view:\n",
      "\n",
      "Set_view(...) method of mpi4py.MPI.File instance\n",
      "    File.Set_view(self, Offset disp=0, Datatype etype=None, Datatype filetype=None, datarep=None, Info info=INFO_NULL)\n",
      "    \n",
      "    Set the file view\n",
      "\n"
     ]
    }
   ],
   "source": [
    "help(fh.Set_view)"
   ]
  },
  {
   "cell_type": "code",
   "execution_count": 5,
   "metadata": {},
   "outputs": [
    {
     "name": "stdout",
     "output_type": "stream",
     "text": [
      "Help on built-in function Create_vector:\n",
      "\n",
      "Create_vector(...) method of mpi4py.MPI.Datatype instance\n",
      "    Datatype.Create_vector(self, int count, int blocklength, int stride)\n",
      "    \n",
      "    Create a vector (strided) datatype\n",
      "\n"
     ]
    }
   ],
   "source": [
    "help(MPI.INT.Create_vector)"
   ]
  },
  {
   "cell_type": "code",
   "execution_count": 8,
   "metadata": {},
   "outputs": [
    {
     "name": "stdout",
     "output_type": "stream",
     "text": [
      "Help on built-in function Write_all:\n",
      "\n",
      "Write_all(...) method of mpi4py.MPI.File instance\n",
      "    File.Write_all(self, buf, Status status=None)\n",
      "    \n",
      "    Collective write using individual file pointer\n",
      "\n"
     ]
    }
   ],
   "source": [
    "help(fh.Write_all)"
   ]
  },
  {
   "cell_type": "code",
   "execution_count": null,
   "metadata": {},
   "outputs": [],
   "source": []
  }
 ],
 "metadata": {
  "kernelspec": {
   "display_name": "Python 3",
   "language": "python",
   "name": "python3"
  },
  "language_info": {
   "codemirror_mode": {
    "name": "ipython",
    "version": 3
   },
   "file_extension": ".py",
   "mimetype": "text/x-python",
   "name": "python",
   "nbconvert_exporter": "python",
   "pygments_lexer": "ipython3",
   "version": "3.6.9"
  }
 },
 "nbformat": 4,
 "nbformat_minor": 2
}

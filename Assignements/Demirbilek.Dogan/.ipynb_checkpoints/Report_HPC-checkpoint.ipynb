{
 "cells": [
  {
   "cell_type": "markdown",
   "metadata": {},
   "source": [
    "## Section 0"
   ]
  },
  {
   "cell_type": "markdown",
   "metadata": {},
   "source": [
    "* The CPU of my computer is **Intel(R) Core(TM) i7-4720HQ**\n",
    "* Clock-rate (frequency) is 2.6 GHz\n",
    "* It has 4 cores\n",
    "* Number_of_FP_operation is **16** (for 64 bit architecture) [source](https://en.wikipedia.org/wiki/FLOPS)"
   ]
  },
  {
   "cell_type": "code",
   "execution_count": 2,
   "metadata": {},
   "outputs": [
    {
     "name": "stdout",
     "output_type": "stream",
     "text": [
      "Theoretical Peak Performance of my computer is: 166.4 GLOPS\n"
     ]
    }
   ],
   "source": [
    "Clock_rate = 2.6 #Should I choose the turbo or programmable?\n",
    "cores = 4\n",
    "FP_Operation = 16\n",
    "\n",
    "Theoretical_Peak_Performance = Clock_rate * FP_Operation * cores\n",
    "\n",
    "print(\"Theoretical Peak Performance of my computer is:\",Theoretical_Peak_Performance, \"GLOPS\")"
   ]
  },
  {
   "cell_type": "markdown",
   "metadata": {},
   "source": [
    "|        | Your model | CPU  | Frequency | number  of core | Peak performance |\n",
    "| ------ | ---------- | ---- | --------- | --------------- | ---------------- |\n",
    "| Laptop | MSI GE70 2QE APACHE PRO|Intel(R) Core(TM) i7-4720HQ      | 2.6 GHz   |4                | 166.4 GLOPS      |\n"
   ]
  },
  {
   "cell_type": "markdown",
   "metadata": {},
   "source": [
    "* My phone is iPhone 6, its CPU is **Apple A8 a 64 bit**\n",
    "* Clock-rate (frequency) is 1.4 GHz\n",
    "* It has 2 cores\n",
    "* Number_of_FP_operation is **12.8** (for 64 bit architecture) [source](https://en.wikipedia.org/wiki/Apple-designed_processors#Apple_A4)"
   ]
  },
  {
   "cell_type": "code",
   "execution_count": 3,
   "metadata": {},
   "outputs": [
    {
     "name": "stdout",
     "output_type": "stream",
     "text": [
      "Theoretical Peak Performance of my cell phone is: 35.839999999999996 GLOPS\n"
     ]
    }
   ],
   "source": [
    "Clock_rate = 1.4\n",
    "cores = 2\n",
    "FP_Operation = 12.8\n",
    "\n",
    "Theoretical_Peak_Performance = Clock_rate * FP_Operation * cores\n",
    "\n",
    "print(\"Theoretical Peak Performance of my cell phone is:\",Theoretical_Peak_Performance, \"GLOPS\")"
   ]
  },
  {
   "cell_type": "markdown",
   "metadata": {},
   "source": [
    "* I have used [MobileLinpack](https://apps.apple.com/cz/app/mobile-linpack/id1001893181) app from App Store.\n",
    "* Below you can find the results"
   ]
  },
  {
   "cell_type": "markdown",
   "metadata": {},
   "source": [
    "### First Run:\n",
    "\n",
    " **Default Parameters**\n",
    " \n",
    " * Matrix start size = 32\n",
    " * Matrix finish size = 257\n",
    " * Step = 16\n",
    " * Number of iterations = 200\n",
    " \n",
    " * **Result** 2.55 GLOPS\n",
    " \n",
    "### Second Run\n",
    " \n",
    " * Matrix start size = 64\n",
    " * Matrix finish size = 257\n",
    " * Step = 16\n",
    " * Number of iterations = 150\n",
    " \n",
    " * **Result** 2.55 GLOPS\n",
    " \n",
    "### Third Run\n",
    " \n",
    " * Matrix start size = 128\n",
    " * Matrix finish size = 512\n",
    " * Step = 16\n",
    " * Number of iterations = 150\n",
    " \n",
    " * **Result** 2.09 GLOPS\n",
    " \n",
    "### Fourth Run\n",
    "\n",
    " * Matrix start size = 32\n",
    " * Matrix finish size = 512\n",
    " * Step = 8\n",
    " * Number of iterations = 150\n",
    " \n",
    " * **Result** 2.58 GLOPS\n",
    " \n",
    "### Fifth Run\n",
    "\n",
    " * Matrix start size = 16\n",
    " * Matrix finish size = 700\n",
    " * Step = 8\n",
    " * Number of iterations = 200\n",
    " \n",
    " * **Result** 2.58 GLOPS\n"
   ]
  },
  {
   "cell_type": "markdown",
   "metadata": {},
   "source": []
  },
  {
   "cell_type": "markdown",
   "metadata": {},
   "source": []
  },
  {
   "cell_type": "markdown",
   "metadata": {},
   "source": [
    "In Top500, sustained peak performance is used for benchmark that is why to answer the below quesiton, I also find the sustained peak performance of my laptop by using **Intel® Math Kernel Library (Intel® MKL) Benchmarks Suite.**\n",
    "\n",
    "Parameters for test is Number of equations to solve (problem size): 30000, Leading dimension of array: 30000, Number of trials to run: 8\n",
    "\n",
    "Average sustained performance is **131.2885 GLOPS**, sustained peak performance is **136.3127 GLOPS**      \n",
    " "
   ]
  },
  {
   "cell_type": "markdown",
   "metadata": {},
   "source": [
    "* Even for 1993 my smart phone can not enter the %1 of the TOP500\n",
    "* My laptop can enter the %1 of TOP500 in 1996 (November) as #5"
   ]
  },
  {
   "cell_type": "markdown",
   "metadata": {},
   "source": [
    "|            | Your model | performance | Top500 year | number 1 HPC system | number of processors (TOP500) |\n",
    "  | ---------- | ---------- | ----------- | ----------- | ------------------- | ----------------------------- |\n",
    "  | SmartPhone |iPhone 6, Apple A8 (CPU)  |2.58 GLOPS   |  Can not enter(1993) |  \tNumerical Wind Tunnel    |             14                  |\n",
    "  | Laptop     | Intel(R) Core(TM) i7-4720HQ  | 136.3 GLOPS   |  1996 (November)   | CP-PACS/2048          |2048                               |\n",
    "\n"
   ]
  },
  {
   "cell_type": "markdown",
   "metadata": {},
   "source": [
    "## Section 1"
   ]
  },
  {
   "cell_type": "code",
   "execution_count": 4,
   "metadata": {},
   "outputs": [],
   "source": [
    "import numpy as np\n",
    "import matplotlib.pyplot as plt\n",
    "import os"
   ]
  },
  {
   "cell_type": "markdown",
   "metadata": {},
   "source": [
    "* N: numbers to be sum\n",
    "* T_comp: time to compute a floating point operation\n",
    "* T_read: time master takes to read"
   ]
  },
  {
   "cell_type": "code",
   "execution_count": 5,
   "metadata": {},
   "outputs": [],
   "source": [
    "#Assumptions\n",
    "\n",
    "T_comp = 2e-09\n",
    "T_read = 1e-04\n",
    "T_comm = 1e-06\n",
    "P = np.arange(1,1000+1)"
   ]
  },
  {
   "cell_type": "markdown",
   "metadata": {},
   "source": [
    "After some specific point even if we increase the number of processor, our process can not be faster which is suitable for the Amdahl's law"
   ]
  },
  {
   "cell_type": "markdown",
   "metadata": {},
   "source": [
    "So lets play with the value of N"
   ]
  },
  {
   "cell_type": "code",
   "execution_count": 6,
   "metadata": {
    "scrolled": false
   },
   "outputs": [
    {
     "name": "stdout",
     "output_type": "stream",
     "text": [
      "Serial algorithm time for N =  1000000 is  0.002\n",
      "For N = 1000000 best scaling value of P is 32 \n",
      "\n",
      "Serial algorithm time for N =  10000000 is  0.02\n",
      "For N = 10000000 best scaling value of P is 100 \n",
      "\n",
      "Serial algorithm time for N =  100000000 is  0.2\n",
      "For N = 100000000 best scaling value of P is 316 \n",
      "\n",
      "Serial algorithm time for N =  1000000000 is  2.0\n",
      "For N = 1000000000 best scaling value of P is 1000 \n",
      "\n"
     ]
    },
    {
     "data": {
      "image/png": "[encoded data removed]",
      "text/plain": [
       "<Figure size 864x576 with 1 Axes>"
      ]
     },
     "metadata": {
      "needs_background": "light"
     },
     "output_type": "display_data"
    }
   ],
   "source": [
    "plt.figure(figsize = (12,8))\n",
    "plt.title(\"Scalability Curve (N = 10000000)\")\n",
    "plt.xlabel(\"Number of Processors\")\n",
    "plt.ylabel(\"Scalability\")\n",
    "\n",
    "N = 10 ** 6\n",
    "Ts = N * T_comp\n",
    "Tp = T_comp * (P + N/P) + T_read + 2 * (P-1) * T_comm\n",
    "plt.text(450,-15,'N = 10^6',fontsize = 12)\n",
    "plt.plot(P,Ts/Tp)\n",
    "print(\"Serial algorithm time for N = \",N,\"is \",Ts)\n",
    "print(\"For N =\",N,\"best scaling value of P is\",int(np.where(Tp == np.min(Tp))[0]+1),\"\\n\")\n",
    "\n",
    "N = 10 ** 7\n",
    "Ts = N * T_comp\n",
    "Tp = T_comp * (P + N/P) + T_read + 2 * (P-1) * T_comm\n",
    "plt.text(450,50,'N = 10^7',fontsize = 12)\n",
    "plt.plot(P,Ts/Tp)\n",
    "print(\"Serial algorithm time for N = \",N,\"is \",Ts)\n",
    "print(\"For N =\",N,\"best scaling value of P is\",int(np.where(Tp == np.min(Tp))[0]+1),\"\\n\")\n",
    "\n",
    "N = 10 ** 8\n",
    "Ts = N * T_comp\n",
    "Tp = T_comp * (P + N/P) + T_read + 2 * (P-1) * T_comm\n",
    "plt.text(450,150,'N = 10^8',fontsize = 12)\n",
    "plt.plot(P,Ts/Tp)\n",
    "print(\"Serial algorithm time for N = \",N,\"is \",Ts)\n",
    "print(\"For N =\",N,\"best scaling value of P is\",int(np.where(Tp == np.min(Tp))[0]+1),\"\\n\")\n",
    "\n",
    "\n",
    "N = 10 ** 9\n",
    "Ts = N * T_comp\n",
    "Tp = T_comp * (P + N/P) + T_read + 2 * (P-1) * T_comm\n",
    "plt.text(450,450,'N = 10^9',fontsize = 12)\n",
    "plt.plot(P,Ts/Tp)\n",
    "print(\"Serial algorithm time for N = \",N,\"is \",Ts)\n",
    "print(\"For N =\",N,\"best scaling value of P is\",int(np.where(Tp == np.min(Tp))[0]+1),\"\\n\")\n"
   ]
  },
  {
   "cell_type": "markdown",
   "metadata": {},
   "source": [
    "* For P = [1,1000], when N gets larger, algorithm tends to scale better. \n",
    "* Best scaling P values are highly dependent on N, when N is smaller best scaling value of P is small as well. For instances: For N = $10^9$ best P value is 1000, for N = $10^7$ best P value is 100. It means that if N is large enough more processors give better results up to specific point. For smaller N, best P tends to be smaller as well."
   ]
  },
  {
   "cell_type": "markdown",
   "metadata": {},
   "source": [
    "## Section 2"
   ]
  },
  {
   "cell_type": "markdown",
   "metadata": {},
   "source": [
    "* Determine the CPU time required to calculate PI with the serial calculation using 10000000 (10 millions) iterations (stone throws). Make sure that this is the actual run time and does not include any system time.\n",
    "\n",
    "Below runs made in my computer.\n",
    "\n",
    "Result:\n",
    "\n",
    "of trials = 10000000 , estimate of pi is 3.141396400 \n",
    "\n",
    "**walltime : 0.17999700**"
   ]
  },
  {
   "cell_type": "markdown",
   "metadata": {},
   "source": [
    "* Get the MPI code running for the same number of iterations.\n",
    "\n",
    "Result:\n",
    "\n",
    "of trials = 10000000 , estimate of pi is 3.141961600 \n",
    "\n",
    "**walltime on master processor : 0.07261992** \n",
    "\n",
    "**walltime on processor 1 : 0.07266264**\n",
    "\n",
    "**walltime on processor 2 : 0.07265567**\n",
    "\n",
    "**walltime on processor 3 : 0.07265657**"
   ]
  },
  {
   "cell_type": "markdown",
   "metadata": {},
   "source": [
    "We should consider the maximum walltime of processors to estimate the parallel time. In this case it is 0.07266264"
   ]
  },
  {
   "cell_type": "markdown",
   "metadata": {},
   "source": [
    "```bash\n",
    "for procs in 1 2 4 8 16 20 ; do time mpirun -np ${procs} ./mpi_pi.x 10000000 ; done > output2_10^7.txt``` \n",
    "by using above command, I get the output.txt files, after that I get the maximum walltime for each run with different number of processors"
   ]
  },
  {
   "cell_type": "code",
   "execution_count": 7,
   "metadata": {},
   "outputs": [],
   "source": [
    "f = open(\"output2_10^7.txt\", \"r\")"
   ]
  },
  {
   "cell_type": "code",
   "execution_count": 8,
   "metadata": {
    "scrolled": true
   },
   "outputs": [],
   "source": [
    "liste = []\n",
    "for i in f.readlines():\n",
    "    if i.startswith(\" # walltime\"):\n",
    "        #print(i)\n",
    "        liste.append(float(i[i.index(\":\")+2:-2]))"
   ]
  },
  {
   "cell_type": "code",
   "execution_count": 9,
   "metadata": {},
   "outputs": [],
   "source": [
    "number_of_processors = [1,2,4,8,16,20]"
   ]
  },
  {
   "cell_type": "code",
   "execution_count": 10,
   "metadata": {},
   "outputs": [
    {
     "name": "stdout",
     "output_type": "stream",
     "text": [
      "1 cores run has maximum run time:  0.19883108\n",
      "2 cores run has maximum run time:  0.10315704\n",
      "4 cores run has maximum run time:  0.05136204\n",
      "8 cores run has maximum run time:  0.02763104\n",
      "16 cores run has maximum run time:  0.01693606\n",
      "20 cores run has maximum run time:  0.01388907\n"
     ]
    }
   ],
   "source": [
    "max_runTimes = []\n",
    "for i in range(len(number_of_processors)):\n",
    "    if liste[2**i-1:2**(i+1)-1] != []:\n",
    "        print(number_of_processors[i], \"cores run has maximum run time: \" ,max(liste[2**i-1:2**(i+1)-1]))\n",
    "        max_runTimes.append(max(liste[2**i-1:2**(i+1)-1]))"
   ]
  },
  {
   "cell_type": "code",
   "execution_count": 11,
   "metadata": {},
   "outputs": [
    {
     "data": {
      "text/plain": [
       "[<matplotlib.lines.Line2D at 0x7f6e05b656d8>]"
      ]
     },
     "execution_count": 11,
     "metadata": {},
     "output_type": "execute_result"
    },
    {
     "data": {
      "image/png": "[encoded data removed]",
      "text/plain": [
       "<Figure size 864x576 with 1 Axes>"
      ]
     },
     "metadata": {
      "needs_background": "light"
     },
     "output_type": "display_data"
    }
   ],
   "source": [
    "plt.figure(figsize = (12,8))\n",
    "plt.title(\"Run Time vs # of Nodes\")\n",
    "plt.xlabel(\"Number of Nodes\")\n",
    "plt.ylabel(\"Run Time\")\n",
    "plt.plot(number_of_processors,max_runTimes)"
   ]
  },
  {
   "cell_type": "code",
   "execution_count": 12,
   "metadata": {},
   "outputs": [
    {
     "data": {
      "text/plain": [
       "[<matplotlib.lines.Line2D at 0x7f6e05ad55c0>]"
      ]
     },
     "execution_count": 12,
     "metadata": {},
     "output_type": "execute_result"
    },
    {
     "data": {
      "image/png": "[encoded data removed]",
      "text/plain": [
       "<Figure size 864x576 with 1 Axes>"
      ]
     },
     "metadata": {
      "needs_background": "light"
     },
     "output_type": "display_data"
    }
   ],
   "source": [
    "plt.figure(figsize = (12,8))\n",
    "plt.title(\"Scalability Curve\")\n",
    "plt.xlabel(\"Number of Nodes\")\n",
    "plt.ylabel(\"Scalability\")\n",
    "plt.plot(number_of_processors,Ts/np.array(max_runTimes))"
   ]
  },
  {
   "cell_type": "markdown",
   "metadata": {},
   "source": [
    "When we increase the number of nodes up to 20, algorithm tends to scale better."
   ]
  },
  {
   "cell_type": "code",
   "execution_count": 21,
   "metadata": {},
   "outputs": [],
   "source": [
    "#pi.x run time for different iterations 6 means 10^6 so on.\n",
    "Ts_6 = 0.02000000\n",
    "Ts_7 = 0.22000000\n",
    "Ts_8 = 2.27000000\n",
    "Ts_9 = 22.69000000\n",
    "\n",
    "serial_runs = [Ts_6,Ts_7,Ts_8,Ts_9]\n",
    "output_files = [i for i in os.listdir() if i.endswith(\".txt\")]"
   ]
  },
  {
   "cell_type": "code",
   "execution_count": 22,
   "metadata": {},
   "outputs": [
    {
     "name": "stdout",
     "output_type": "stream",
     "text": [
      "\n",
      "Serial time for N = 10^6 is 0.02\n",
      "\n",
      "For N = 10^6 you can find run times for different processors below\n",
      "1 cores run has maximum run time:  0.01990795 scalability is 1.0046237809518308\n",
      "2 cores run has maximum run time:  0.01031709 scalability is 1.9385311168168546\n",
      "4 cores run has maximum run time:  0.00543308 scalability is 3.6811532316844224\n",
      "8 cores run has maximum run time:  0.00338411 scalability is 5.909973375569943\n",
      "16 cores run has maximum run time:  0.00337291 scalability is 5.929597884319476\n",
      "20 cores run has maximum run time:  0.00328302 scalability is 6.091951922315429\n",
      "\n",
      "Serial time for N = 10^7 is 0.22\n",
      "\n",
      "For N = 10^7 you can find run times for different processors below\n",
      "1 cores run has maximum run time:  0.19883108 scalability is 1.1064668561876745\n",
      "2 cores run has maximum run time:  0.10315704 scalability is 2.13267073192484\n",
      "4 cores run has maximum run time:  0.05136204 scalability is 4.28331896474517\n",
      "8 cores run has maximum run time:  0.02763104 scalability is 7.962060059990503\n",
      "16 cores run has maximum run time:  0.01693606 scalability is 12.990034281881382\n",
      "20 cores run has maximum run time:  0.01388907 scalability is 15.839793449093424\n",
      "\n",
      "Serial time for N = 10^8 is 2.27\n",
      "\n",
      "For N = 10^8 you can find run times for different processors below\n",
      "1 cores run has maximum run time:  1.98622179 scalability is 1.142873374679874\n",
      "2 cores run has maximum run time:  1.0219152 scalability is 2.2213193423485627\n",
      "4 cores run has maximum run time:  0.51305103 scalability is 4.4245111446321435\n",
      "8 cores run has maximum run time:  0.27128315 scalability is 8.36764096848625\n",
      "16 cores run has maximum run time:  0.14891601 scalability is 15.24349195227565\n",
      "20 cores run has maximum run time:  0.11698103 scalability is 19.404855641978873\n",
      "\n",
      "Serial time for N = 10^9 is 22.69\n",
      "\n",
      "For N = 10^9 you can find run times for different processors below\n",
      "1 cores run has maximum run time:  19.85913587 scalability is 1.142547195836271\n",
      "2 cores run has maximum run time:  10.22568107 scalability is 2.218923105920807\n",
      "4 cores run has maximum run time:  5.14612985 scalability is 4.409138646200309\n",
      "8 cores run has maximum run time:  2.72066188 scalability is 8.339882352451676\n",
      "16 cores run has maximum run time:  1.44949389 scalability is 15.653739664952987\n",
      "20 cores run has maximum run time:  1.16037512 scalability is 19.554021461611484\n"
     ]
    },
    {
     "data": {
      "image/png": "[encoded data removed]",
      "text/plain": [
       "<Figure size 864x576 with 1 Axes>"
      ]
     },
     "metadata": {
      "needs_background": "light"
     },
     "output_type": "display_data"
    }
   ],
   "source": [
    "plt.figure(figsize = (12,8))\n",
    "plt.title(\"Scalability Curve\")\n",
    "plt.xlabel(\"Number of Nodes\")\n",
    "plt.ylabel(\"Scalability\")\n",
    "\n",
    "plt.text(15,5,'N = 10^6',fontsize = 10)\n",
    "plt.text(15,12,'N = 10^7',fontsize = 10)\n",
    "plt.text(15,14,'N = 10^8',fontsize = 10)\n",
    "plt.text(17,19,'N = 10^9',fontsize = 10)\n",
    "\n",
    "\n",
    "for j,k in zip(output_files,serial_runs):\n",
    "    N = j[-8:-4] \n",
    "    print(\"\\nSerial time for N =\",N,\"is\",k)\n",
    "    print(\"\\nFor N =\",N,\"you can find run times for different processors below\" )\n",
    "    f = open(j, \"r\")\n",
    "    liste = []\n",
    "    for i in f.readlines():\n",
    "        if i.startswith(\" # walltime\"):\n",
    "        #print(i)\n",
    "            liste.append(float(i[i.index(\":\")+2:-2]))\n",
    "            \n",
    "    max_runTimes = []\n",
    "    for i in range(len(number_of_processors)):\n",
    "        if liste[2**i-1:2**(i+1)-1] != []:\n",
    "            print(number_of_processors[i], \"cores run has maximum run time: \" ,max(liste[2**i-1:2**(i+1)-1])\n",
    "                 ,\"scalability is\",k/max(liste[2**i-1:2**(i+1)-1]))\n",
    "            max_runTimes.append(max(liste[2**i-1:2**(i+1)-1]))\n",
    "    plt.plot(number_of_processors,max_runTimes[0]/np.array(max_runTimes))\n",
    "\n",
    "        "
   ]
  },
  {
   "cell_type": "markdown",
   "metadata": {},
   "source": [
    "Parallel to theoretical model, if we increase the N, algorithm tend to scale good up to specific points (Ahmdals Law). For smaller N even if we increase the number of nodes algorithm doesn't scale good. In this case for N = $10^6$ using more than 8 cores is not logical"
   ]
  },
  {
   "cell_type": "markdown",
   "metadata": {},
   "source": [
    "### Section 2.2: identify a model for the parallel overhead"
   ]
  },
  {
   "cell_type": "markdown",
   "metadata": {},
   "source": [
    "Tasks in a program can be split into serial tasks executed by a single worker and parallel tasks\n",
    "distributed to multiple workers. Then, the total runtime (execution time) of a program with n\n",
    "workers is given as:\n",
    "\n",
    "$T(n) = T_p/n + T_s+ P(n)$\n",
    "\n",
    "where $T_p$ is the runtime of parallelizable tasks with a single core, $T_s$ is the runtime of a serial\n",
    "code, and $P(n$) is parallelization overhead. When a set of tasks is distributed to n workers, then\n",
    "the ideal computing time of the parallelized tasks should be $T_p/n$. However, the actual time to\n",
    "compute the tasks in parallel requires extra P(n) seconds. Therefore, the parallelization overhead\n",
    "P(n) is defined as the additional time incurred from parallelizing a chunk of tasks to multiple\n",
    "processors. [source](https://editorialexpress.com/cgi-bin/conference/download.cgi?db_name=CEF2019&paper_id=358)"
   ]
  },
  {
   "cell_type": "markdown",
   "metadata": {},
   "source": [
    "There is no serial in out parallel algorithm, so P(n) is $P(n) = (T(n) - T_s)-T_p/n$. Here $T_s = 0$ so final equaition for parallel overhead is $P(n) = T(n)-T_p/n$."
   ]
  },
  {
   "cell_type": "code",
   "execution_count": 15,
   "metadata": {},
   "outputs": [
    {
     "name": "stdout",
     "output_type": "stream",
     "text": [
      "\n",
      "Serial time for N = 10^7 is 0.02\n",
      "\n",
      "*** For N = 10^7 you can find run times and overheads for different processors below ***\n",
      "1 cores run has maximum run time:  0.19883108 overhead is 0.0\n",
      "2 cores run has maximum run time:  0.10315704 overhead is 0.05157852\n",
      "4 cores run has maximum run time:  0.05136204 overhead is 0.0385415575\n",
      "8 cores run has maximum run time:  0.02763104 overhead is 0.02418854375\n",
      "16 cores run has maximum run time:  0.01693606 overhead is 0.01603050125\n",
      "20 cores run has maximum run time:  0.01388907 overhead is 0.0132849175\n"
     ]
    }
   ],
   "source": [
    "for j,k in zip(output_files,serial_runs):\n",
    "    N = j[-8:-4] \n",
    "    print(\"\\nSerial time for N =\",N,\"is\",k)\n",
    "    print(\"\\n*** For N =\",N,\"you can find run times and overheads for different processors below ***\" )\n",
    "    f = open(j, \"r\")\n",
    "    liste = []\n",
    "    for i in f.readlines():\n",
    "        if i.startswith(\" # walltime\"):\n",
    "        #print(i)\n",
    "            liste.append(float(i[i.index(\":\")+2:-2]))\n",
    "            \n",
    "    max_runTimes = []\n",
    "    for i in range(len(number_of_processors)):\n",
    "        if liste[2**i-1:2**(i+1)-1] != []:\n",
    "            print(number_of_processors[i], \"cores run has maximum run time: \" ,max(liste[2**i-1:2**(i+1)-1])\n",
    "                 ,\"overhead is\",max(liste[2**i-1:2**(i+1)-1])-(liste[2**i-1:2**(i+1)-1][0]/number_of_processors[i]))\n",
    "            max_runTimes.append(max(liste[2**i-1:2**(i+1)-1]))\n"
   ]
  },
  {
   "cell_type": "markdown",
   "metadata": {},
   "source": [
    "When we increase the number of cores overhead tends to be smaller. Overhead must be zero for 1 cores because for 1 cores $T_n = T_s, and ,n = 1$ it makes $P(n) = 0$."
   ]
  },
  {
   "cell_type": "markdown",
   "metadata": {},
   "source": [
    "### Section 2.3 weak scaling"
   ]
  },
  {
   "cell_type": "markdown",
   "metadata": {},
   "source": [
    "I have used this bash script to increase the problem size simultaneously with the number of nodes being used.\n",
    "\n",
    "```bash\n",
    "for procs in 1 2 4 8 16 20 ; do time mpirun -np ${procs} ./mpi_pi.x $((${procs}*10000000)); done &> output_weakscaling.txt```\n"
   ]
  },
  {
   "cell_type": "code",
   "execution_count": 16,
   "metadata": {},
   "outputs": [
    {
     "ename": "FileNotFoundError",
     "evalue": "[Errno 2] No such file or directory: 'output_weakscaling.txt'",
     "output_type": "error",
     "traceback": [
      "\u001b[0;31m---------------------------------------------------------------------------\u001b[0m",
      "\u001b[0;31mFileNotFoundError\u001b[0m                         Traceback (most recent call last)",
      "\u001b[0;32m<ipython-input-16-9f238b86803a>\u001b[0m in \u001b[0;36m<module>\u001b[0;34m\u001b[0m\n\u001b[0;32m----> 1\u001b[0;31m \u001b[0mf_weak\u001b[0m \u001b[0;34m=\u001b[0m \u001b[0mopen\u001b[0m\u001b[0;34m(\u001b[0m\u001b[0;34m\"output_weakscaling.txt\"\u001b[0m\u001b[0;34m,\u001b[0m \u001b[0;34m\"r\"\u001b[0m\u001b[0;34m)\u001b[0m\u001b[0;34m\u001b[0m\u001b[0;34m\u001b[0m\u001b[0m\n\u001b[0m\u001b[1;32m      2\u001b[0m \u001b[0;34m\u001b[0m\u001b[0m\n\u001b[1;32m      3\u001b[0m \u001b[0mliste\u001b[0m \u001b[0;34m=\u001b[0m \u001b[0;34m[\u001b[0m\u001b[0;34m]\u001b[0m\u001b[0;34m\u001b[0m\u001b[0;34m\u001b[0m\u001b[0m\n\u001b[1;32m      4\u001b[0m \u001b[0;32mfor\u001b[0m \u001b[0mi\u001b[0m \u001b[0;32min\u001b[0m \u001b[0mf_weak\u001b[0m\u001b[0;34m.\u001b[0m\u001b[0mreadlines\u001b[0m\u001b[0;34m(\u001b[0m\u001b[0;34m)\u001b[0m\u001b[0;34m:\u001b[0m\u001b[0;34m\u001b[0m\u001b[0;34m\u001b[0m\u001b[0m\n\u001b[1;32m      5\u001b[0m     \u001b[0;32mif\u001b[0m \u001b[0mi\u001b[0m\u001b[0;34m.\u001b[0m\u001b[0mstartswith\u001b[0m\u001b[0;34m(\u001b[0m\u001b[0;34m\" # walltime\"\u001b[0m\u001b[0;34m)\u001b[0m\u001b[0;34m:\u001b[0m\u001b[0;34m\u001b[0m\u001b[0;34m\u001b[0m\u001b[0m\n",
      "\u001b[0;31mFileNotFoundError\u001b[0m: [Errno 2] No such file or directory: 'output_weakscaling.txt'"
     ]
    }
   ],
   "source": [
    "f_weak = open(\"output_weakscaling.txt\", \"r\")\n",
    "\n",
    "liste = []\n",
    "for i in f_weak.readlines():\n",
    "    if i.startswith(\" # walltime\"):\n",
    "        #print(i)\n",
    "        liste.append(float(i[i.index(\":\")+2:-2]))\n",
    "        \n",
    "max_runTimes = []\n",
    "for i in range(len(number_of_processors)):\n",
    "    if liste[2**i-1:2**(i+1)-1] != []:\n",
    "        print(number_of_processors[i], \"cores run has maximum run time: \" ,max(liste[2**i-1:2**(i+1)-1]))\n",
    "        max_runTimes.append(max(liste[2**i-1:2**(i+1)-1]))\n",
    "        \n",
    "plt.figure(figsize = (12,8))\n",
    "plt.title(\"Run Time vs # of Nodes\")\n",
    "plt.xlabel(\"Number of Nodes\")\n",
    "plt.ylabel(\"Run Time\")\n",
    "plt.plot(number_of_processors,max_runTimes)"
   ]
  },
  {
   "cell_type": "code",
   "execution_count": null,
   "metadata": {},
   "outputs": [],
   "source": [
    "max_runTimesx"
   ]
  },
  {
   "cell_type": "markdown",
   "metadata": {},
   "source": [
    "# This part will be modified**"
   ]
  },
  {
   "cell_type": "code",
   "execution_count": null,
   "metadata": {},
   "outputs": [],
   "source": [
    "#pi.x run time for different iterations 27 means 2*10^7so on.\n",
    "Ts_7 =  0.22000000  \n",
    "Ts_27 = 0.45000000\n",
    "Ts_47 = 0.91000000\n",
    "Ts_87 = 1.82000000\n",
    "Ts_167 = 3.65000000\n",
    "Ts_207 = 4.57000000\n",
    "\n",
    "serial_runs = [Ts_7,Ts_27,Ts_47,Ts_87,Ts_167,Ts_207]\n",
    "\n",
    "plt.figure(figsize = (12,8))\n",
    "plt.title(\"Weak Scalability Curve\")\n",
    "plt.xlabel(\"Number of Nodes\")\n",
    "plt.ylabel(\"Scalability\")\n",
    "\n",
    "\n",
    "\n",
    "for j,k in zip(max_runTimes,serial_runs):\n",
    "    N = j[-8:-4] \n",
    "    print(\"\\nSerial time for N =\",N,\"is\",k)\n",
    "    print(\"\\nFor N =\",N,\"you can find run times for different processors below\" )\n",
    "    f = open(j, \"r\")\n",
    "    liste = []\n",
    "    for i in f.readlines():\n",
    "        if i.startswith(\" # walltime\"):\n",
    "        #print(i)\n",
    "            liste.append(float(i[i.index(\":\")+2:-2]))\n",
    "            \n",
    "    max_runTimes = []\n",
    "    for i in range(len(number_of_processors)):\n",
    "        if liste[2**i-1:2**(i+1)-1] != []:\n",
    "            print(number_of_processors[i], \"cores run has maximum run time: \" ,max(liste[2**i-1:2**(i+1)-1])\n",
    "                 ,\"scalability is\",k/max(liste[2**i-1:2**(i+1)-1]))\n",
    "            max_runTimes.append(max(liste[2**i-1:2**(i+1)-1]))\n",
    "    plt.plot(number_of_processors,k/np.array(max_runTimes))\n",
    "\n",
    "        \n"
   ]
  },
  {
   "cell_type": "code",
   "execution_count": null,
   "metadata": {},
   "outputs": [],
   "source": [
    "plt.plot(number_of_processors,serial_runs/np.array(max_runTimes))"
   ]
  },
  {
   "cell_type": "code",
   "execution_count": null,
   "metadata": {},
   "outputs": [],
   "source": [
    "f_weak = open(\"output_weakscaling.txt\", \"r\")\n",
    "\n",
    "liste = []\n",
    "for i in f_weak.readlines():\n",
    "    if i.startswith(\" # walltime\"):\n",
    "        #print(i)\n",
    "        liste.append(float(i[i.index(\":\")+2:-2]))\n",
    "        \n",
    "max_runTimes = []\n",
    "for i in range(len(number_of_processors)):\n",
    "    if liste[2**i-1:2**(i+1)-1] != []:\n",
    "        print(number_of_processors[i], \"cores run has maximum run time: \" ,max(liste[2**i-1:2**(i+1)-1]))\n",
    "        max_runTimes.append(max(liste[2**i-1:2**(i+1)-1]))\n",
    "        \n",
    "plt.figure(figsize = (12,8))\n",
    "plt.title(\"Run Time vs # of Nodes\")\n",
    "plt.xlabel(\"Number of Nodes\")\n",
    "plt.ylabel(\"Run Time\")\n",
    "plt.plot(number_of_processors,liste[2**i-1:2**(i+1)-1][0]/max_runTimes)"
   ]
  },
  {
   "cell_type": "markdown",
   "metadata": {},
   "source": [
    "## Section 4"
   ]
  },
  {
   "cell_type": "code",
   "execution_count": null,
   "metadata": {},
   "outputs": [],
   "source": [
    "f_weak = open(\"section4_output.txt\", \"r\")\n",
    "for i in f_weak:\n",
    "    print(i)"
   ]
  },
  {
   "cell_type": "code",
   "execution_count": null,
   "metadata": {},
   "outputs": [],
   "source": [
    "f_weak = open(\"section4_output.txt\", \"r\")\n",
    "\n",
    "liste = []\n",
    "N_numbers = []\n",
    "for i in f_weak.readlines():\n",
    "    if i.startswith(\" # walltime\"):\n",
    "        #print(i)\n",
    "        liste.append(float(i[i.index(\":\")+2:-2]))\n",
    "    if i.startswith(\"Total\"):\n",
    "        #print(i[i.index(\"N\")+2:i.index(\":\")-2])\n",
    "        N_numbers.append(int(i[i.index(\"N\")+2:i.index(\":\")-1]))\n",
    "\n",
    "processor = 4\n",
    "max_runTimes = []\n",
    "for i in range(0,len(liste)+1,processor):\n",
    "    if liste[i:i+processor] != []:\n",
    "        #print(i,i+processor)\n",
    "        max_runTimes.append(max(liste[i:i+processor]))\n",
    "        print(\"For N\",N_numbers[int(i/processor)],\"max run time\",max(liste[i:i+processor]))\n",
    "\n",
    "max_runTimes = np.array(max_runTimes)"
   ]
  },
  {
   "cell_type": "code",
   "execution_count": null,
   "metadata": {},
   "outputs": [],
   "source": [
    "Ts4 = 0.00010609626770019531\n",
    "Ts5 = 0.0004329681396484375\n",
    "Ts6 = 0.0012745210005959962\n",
    "Ts7 = 0.0025429725646972656\n",
    "Ts8 = 0.19725298881530762\n",
    "\n",
    "serial_runs = np.array([Ts4,Ts5,Ts6,Ts7,Ts8])"
   ]
  },
  {
   "cell_type": "code",
   "execution_count": null,
   "metadata": {},
   "outputs": [],
   "source": [
    "plt.plot(N_numbers,serial_runs/max_runTimes)"
   ]
  },
  {
   "cell_type": "code",
   "execution_count": null,
   "metadata": {},
   "outputs": [],
   "source": [
    "serial_runs"
   ]
  },
  {
   "cell_type": "code",
   "execution_count": null,
   "metadata": {},
   "outputs": [],
   "source": [
    "max_runTimes"
   ]
  },
  {
   "cell_type": "code",
   "execution_count": null,
   "metadata": {},
   "outputs": [],
   "source": [
    "plt.plot(N_numbers,serial_runs/max_runTimes)"
   ]
  },
  {
   "cell_type": "code",
   "execution_count": null,
   "metadata": {},
   "outputs": [],
   "source": [
    "type(k)"
   ]
  },
  {
   "cell_type": "code",
   "execution_count": null,
   "metadata": {},
   "outputs": [],
   "source": []
  }
 ],
 "metadata": {
  "kernelspec": {
   "display_name": "Python 3",
   "language": "python",
   "name": "python3"
  },
  "language_info": {
   "codemirror_mode": {
    "name": "ipython",
    "version": 3
   },
   "file_extension": ".py",
   "mimetype": "text/x-python",
   "name": "python",
   "nbconvert_exporter": "python",
   "pygments_lexer": "ipython3",
   "version": "3.6.9"
  }
 },
 "nbformat": 4,
 "nbformat_minor": 2
}

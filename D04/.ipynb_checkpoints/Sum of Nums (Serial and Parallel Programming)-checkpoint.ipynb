{
 "cells": [
  {
   "cell_type": "markdown",
   "metadata": {},
   "source": [
    "## Serial Programming"
   ]
  },
  {
   "cell_type": "code",
   "execution_count": 108,
   "metadata": {},
   "outputs": [
    {
     "name": "stdout",
     "output_type": "stream",
     "text": [
      "Please enter the N: 100000000\n",
      "Sum of numbers are  5000000050000000\n",
      "Serial execeution time is:  0.06205002999922726 second\n"
     ]
    }
   ],
   "source": [
    "import numpy as np\n",
    "from timeit import default_timer as timer\n",
    "\n",
    "N = int(input(\"Please enter the N: \"))\n",
    "\n",
    "N_array = np.arange(1,N+1)\n",
    "\n",
    "start = timer()\n",
    "\n",
    "np.sum(N_array)\n",
    "\n",
    "end = timer()\n",
    "\n",
    "print(\"Sum of numbers are \",np.sum(N_array) )\n",
    "\n",
    "print(\"Serial execeution time is: \",end-start, \"second\")"
   ]
  },
  {
   "cell_type": "markdown",
   "metadata": {},
   "source": [
    "## Parallel Programming Part"
   ]
  },
  {
   "cell_type": "code",
   "execution_count": 6,
   "metadata": {},
   "outputs": [],
   "source": [
    "import numpy as np\n",
    "from timeit import default_timer as timer\n",
    "from mpi4py import MPI"
   ]
  },
  {
   "cell_type": "code",
   "execution_count": 88,
   "metadata": {},
   "outputs": [],
   "source": [
    "comm = MPI.COMM_WORLD\n",
    "rank = comm.Get_rank()\n",
    "size = comm.Get_size()"
   ]
  },
  {
   "cell_type": "code",
   "execution_count": 83,
   "metadata": {},
   "outputs": [
    {
     "name": "stdout",
     "output_type": "stream",
     "text": [
      "Please enter the N: 90\n"
     ]
    }
   ],
   "source": [
    "N = int(input(\"Please enter the N: \"))\n",
    "\n",
    "N = np.arange(1,N+1)"
   ]
  },
  {
   "cell_type": "code",
   "execution_count": 84,
   "metadata": {},
   "outputs": [],
   "source": [
    "rank = [0,1,2,3]"
   ]
  },
  {
   "cell_type": "code",
   "execution_count": 85,
   "metadata": {},
   "outputs": [],
   "source": [
    "size = 4"
   ]
  },
  {
   "cell_type": "code",
   "execution_count": 86,
   "metadata": {},
   "outputs": [],
   "source": [
    "elements_per_rank = len(N)//size"
   ]
  },
  {
   "cell_type": "code",
   "execution_count": 87,
   "metadata": {},
   "outputs": [],
   "source": [
    "if len(N) % size != 0:\n",
    "    reminder = elements_per_rank * size"
   ]
  },
  {
   "cell_type": "code",
   "execution_count": 88,
   "metadata": {},
   "outputs": [
    {
     "data": {
      "text/plain": [
       "22"
      ]
     },
     "execution_count": 88,
     "metadata": {},
     "output_type": "execute_result"
    }
   ],
   "source": [
    "elements_per_rank"
   ]
  },
  {
   "cell_type": "code",
   "execution_count": 89,
   "metadata": {},
   "outputs": [
    {
     "name": "stdout",
     "output_type": "stream",
     "text": [
      "[ 1  2  3  4  5  6  7  8  9 10 11 12 13 14 15 16 17 18 19 20 21 22]\n",
      "253\n",
      "[23 24 25 26 27 28 29 30 31 32 33 34 35 36 37 38 39 40 41 42 43 44]\n",
      "737\n",
      "[45 46 47 48 49 50 51 52 53 54 55 56 57 58 59 60 61 62 63 64 65 66]\n",
      "1221\n",
      "[67 68 69 70 71 72 73 74 75 76 77 78 79 80 81 82 83 84 85 86 87 88]\n",
      "1705\n",
      "4095\n"
     ]
    }
   ],
   "source": [
    "if reminder != 0:\n",
    "    reminder_sum = np.sum(N[reminder:])\n",
    "else:\n",
    "    reminder_sum = 0\n",
    "total = 0 +reminder_sum\n",
    "for i in rank:\n",
    "    print(N[i*elements_per_rank:(i+1)*elements_per_rank])\n",
    "    #print(i)\n",
    "    partial_sum = np.sum(N[i*elements_per_rank:(i+1)*elements_per_rank])\n",
    "    print(partial_sum)\n",
    "    total+=partial_sum\n",
    "print(total)"
   ]
  },
  {
   "cell_type": "code",
   "execution_count": 24,
   "metadata": {},
   "outputs": [
    {
     "name": "stdout",
     "output_type": "stream",
     "text": [
      "136\n",
      "392\n",
      "648\n",
      "904\n",
      "1160\n",
      "1416\n",
      "4656\n"
     ]
    }
   ],
   "source": [
    "total = 0\n",
    "for i in rank:\n",
    "    #print(N[i*elements_per_rank:(i+1)*elements_per_rank])\n",
    "    #print(i)\n",
    "    partial_sum = np.sum(N[i*elements_per_rank:(i+1)*elements_per_rank])\n",
    "    print(partial_sum)\n",
    "    total+=partial_sum\n",
    "print(total)"
   ]
  },
  {
   "cell_type": "code",
   "execution_count": null,
   "metadata": {},
   "outputs": [],
   "source": [
    "if rank == 0: #master nodes gather results from others\n",
    "    for i in range(1,size):\n",
    "        comm.recv(source = i, tag = i*11) \n",
    "        total += partial_sum\n",
    "    print(total)\n",
    "    \n",
    "else:\n",
    "    comm.send(partial_sum, dest = 0, tag = rank*11)"
   ]
  },
  {
   "cell_type": "code",
   "execution_count": 59,
   "metadata": {},
   "outputs": [],
   "source": [
    "size = 4"
   ]
  },
  {
   "cell_type": "code",
   "execution_count": 95,
   "metadata": {},
   "outputs": [
    {
     "data": {
      "text/plain": [
       "5050"
      ]
     },
     "execution_count": 95,
     "metadata": {},
     "output_type": "execute_result"
    }
   ],
   "source": [
    "4725+325"
   ]
  },
  {
   "cell_type": "code",
   "execution_count": null,
   "metadata": {},
   "outputs": [],
   "source": [
    "N = int(input(\"Please enter the N: \"))\n",
    "\n",
    "N = np.arange(1,N+1)\n",
    "\n",
    "#print(N[i*elements_per_rank:(i+1)*elements_per_rank])\n",
    "#print(i)\n",
    "partial_sum = np.sum(N[i*elements_per_rank:(i+1)*elements_per_rank])\n",
    "print(\"On rank\" ,i,\"summed\",partial_sum)\n",
    "    \n",
    "if rank == 0: #master nodes gather results from others\n",
    "    for i in range(1,size):\n",
    "        comm.recv(source = i, tag = i*11) \n",
    "        total += partial_sum\n",
    "    print(total)\n",
    "    \n",
    "else:\n",
    "    comm.send(partial_sum, dest = 0, tag = rank*11)\n",
    "    \n"
   ]
  },
  {
   "cell_type": "code",
   "execution_count": 82,
   "metadata": {},
   "outputs": [
    {
     "name": "stdout",
     "output_type": "stream",
     "text": [
      "Please enter the N: 100\n"
     ]
    },
    {
     "ename": "Exception",
     "evalue": "Invalid rank, error stack:\nMPI_Send(173): MPI_Send(buf=0x7f7824453730, count=558, MPI_BYTE, dest=1, tag=11, MPI_COMM_WORLD) failed\nMPI_Send(98).: Invalid rank has value 1 but must be nonnegative and less than 1",
     "output_type": "error",
     "traceback": [
      "\u001b[0;31m---------------------------------------------------------------------------\u001b[0m",
      "\u001b[0;31mException\u001b[0m                                 Traceback (most recent call last)",
      "\u001b[0;32m<ipython-input-82-c8ef7fa76b4d>\u001b[0m in \u001b[0;36m<module>\u001b[0;34m\u001b[0m\n\u001b[1;32m     10\u001b[0m     \u001b[0mdata2\u001b[0m \u001b[0;34m=\u001b[0m \u001b[0mN_array\u001b[0m\u001b[0;34m[\u001b[0m\u001b[0;36m50\u001b[0m\u001b[0;34m:\u001b[0m\u001b[0;34m]\u001b[0m\u001b[0;34m\u001b[0m\u001b[0;34m\u001b[0m\u001b[0m\n\u001b[1;32m     11\u001b[0m \u001b[0;34m\u001b[0m\u001b[0m\n\u001b[0;32m---> 12\u001b[0;31m     \u001b[0mcomm\u001b[0m\u001b[0;34m.\u001b[0m\u001b[0msend\u001b[0m\u001b[0;34m(\u001b[0m\u001b[0mdata1\u001b[0m\u001b[0;34m,\u001b[0m \u001b[0mdest\u001b[0m \u001b[0;34m=\u001b[0m \u001b[0;36m1\u001b[0m\u001b[0;34m,\u001b[0m \u001b[0mtag\u001b[0m \u001b[0;34m=\u001b[0m \u001b[0;36m11\u001b[0m\u001b[0;34m)\u001b[0m\u001b[0;34m\u001b[0m\u001b[0;34m\u001b[0m\u001b[0m\n\u001b[0m\u001b[1;32m     13\u001b[0m \u001b[0;34m\u001b[0m\u001b[0m\n\u001b[1;32m     14\u001b[0m     \u001b[0mprint\u001b[0m\u001b[0;34m(\u001b[0m\u001b[0;34m\"Data1 send to rank 1\"\u001b[0m\u001b[0;34m)\u001b[0m\u001b[0;34m\u001b[0m\u001b[0;34m\u001b[0m\u001b[0m\n",
      "\u001b[0;32mMPI/Comm.pyx\u001b[0m in \u001b[0;36mmpi4py.MPI.Comm.send (src/mpi4py.MPI.c:106424)\u001b[0;34m()\u001b[0m\n",
      "\u001b[0;32mMPI/msgpickle.pxi\u001b[0m in \u001b[0;36mmpi4py.MPI.PyMPI_send (src/mpi4py.MPI.c:42120)\u001b[0;34m()\u001b[0m\n",
      "\u001b[0;31mException\u001b[0m: Invalid rank, error stack:\nMPI_Send(173): MPI_Send(buf=0x7f7824453730, count=558, MPI_BYTE, dest=1, tag=11, MPI_COMM_WORLD) failed\nMPI_Send(98).: Invalid rank has value 1 but must be nonnegative and less than 1"
     ]
    }
   ],
   "source": [
    "if rank == 0:\n",
    "    \n",
    "    N = int(input(\"Please enter the N: \"))\n",
    "\n",
    "    N_array = np.arange(1,N+1)\n",
    "    \n",
    "    #Split data equal for all processors for now let's make 2\n",
    "    \n",
    "    data1 = N_array[:50]\n",
    "    data2 = N_array[50:]\n",
    "    \n",
    "    comm.send(data1, dest = 1, tag = 11)\n",
    "    \n",
    "    print(\"Data1 send to rank 1\")\n",
    "    \n",
    "    comm.send(data2, dest = 2, tage = 12)\n",
    "    \n",
    "    print(\"Data2 send to rank 2\")\n",
    "\n",
    "elif rank == 1:\n",
    "    \n",
    "    data1 = comm.recv(source = 0, tag = 11)\n",
    "    \n",
    "    print(\"Data1 is received from rank 0\")\n",
    "    \n",
    "    sum_data1 = np.sum(data1)\n",
    "    \n",
    "    comm.send(sum_data1, dest = 3, tag = 13)\n",
    "    \n",
    "    print(\"Sum of data1 send to rank 3\")\n",
    "    \n",
    "\n",
    "elif rank == 2:\n",
    "    \n",
    "    data2 = comm.recv(source = 0, tag = 12)\n",
    "    \n",
    "    print(\"Data2 is received from rank 0\")\n",
    "    \n",
    "    sum_data2 = np.sum(data2)\n",
    "    \n",
    "    comm.send(sum_data2, dest = 3, tag = 14)\n",
    "    \n",
    "    print(\"Sum of data2 send to rank 0\")\n",
    "\n",
    "    \n",
    "elif rank == 3:\n",
    "    \n",
    "    sum_data1 = comm.recv(source = 1, tag = 13)\n",
    "    \n",
    "    print(\"sum_data1 is received from rank 1\")\n",
    "    \n",
    "    sum_data2 = comm.recv(source = 2, tag = 14)\n",
    "    \n",
    "    print(\"sum_data2 is received from rank 1\")\n",
    "    \n",
    "    \n",
    "    print(sum_data1 + sum_data2)\n",
    "    \n",
    "    \n",
    "    \n",
    "    "
   ]
  },
  {
   "cell_type": "code",
   "execution_count": null,
   "metadata": {},
   "outputs": [],
   "source": [
    "import sys\n",
    "import numpy as np\n",
    "from timeit import default_timer as timer\n",
    "from mpi4py import MPI\n",
    "\n",
    "comm = MPI.COMM_WORLD\n",
    "rank = comm.Get_rank()\n",
    "size = comm.Get_size()\n",
    "\n",
    "start_time = MPI.Wtime()\n",
    "\n",
    "N = int(sys.argv[1])\n",
    "\n",
    "reading_time_start = MPI.Wtime()\n",
    "\n",
    "N = np.arange(1,N+1)\n",
    "\n",
    "reading_time_end = MPI.Wtime()\n",
    "\n",
    "elements_per_rank = len(N)//size\n",
    "\n",
    "array = N[rank*elements_per_rank:(rank+1)*elements_per_rank]\n",
    "\n",
    "if len(N) % size != 0:\n",
    "    reminder = elements_per_rank * size\n",
    "else:\n",
    "    reminder = 0\n",
    "\n",
    "print(\"On processor\",rank,\"reading time\",reading_time_end-reading_time_start)\n",
    "\n",
    "comp_time_start = MPI.Wtime()\n",
    "\n",
    "partial_sum = np.sum(array)\n",
    "\n",
    "comp_time_end = MPI.Wtime()\n",
    "\n",
    "print(\"On processor\",rank,\"computation time\",comp_time_end-comp_time_start)\n",
    "\n",
    "\n",
    "#print(\"Computation time on rank\",rank,\"is\",comp_time_end-comp_time_end\t)\n",
    "\n",
    "#print(\"On rank\" ,rank,\"partial sum is\",partial_sum)\n",
    "    \n",
    "if rank == 0: #master nodes gather results from others\n",
    "\n",
    "    if reminder != 0:\n",
    "        reminder_sum = np.sum(N[reminder:])\n",
    "    else:\n",
    "        reminder_sum = 0\n",
    "\n",
    "    total = partial_sum + reminder_sum\n",
    "    for i in range(1,size):\n",
    "        recv_comm_start = MPI.Wtime()\n",
    "        partial_sum = comm.recv(source = i, tag = i*11)\n",
    "        recv_comm_end = MPI.Wtime()\n",
    "        print(\"From rank\",i,\"to master node receiving time\",recv_comm_end-recv_comm_start) \n",
    "        #print(\"Received partial sum is\",partial_sum)\n",
    "        total += partial_sum\n",
    "        end_time = MPI.Wtime()\n",
    "    print(\" # walltime on master processor\",end_time-start_time)\n",
    "    print(\"Total:\",total)\n",
    "    \n",
    "else:\n",
    "    send_comm_start = MPI.Wtime()\n",
    "    comm.send(partial_sum, dest = 0, tag = rank*11)\n",
    "    send_comm_end = MPI.Wtime()\n",
    "    print(\"From rank\",rank,\"to master node sending time is\",send_comm_end-send_comm_start)\n",
    "    #print(\"rank\",rank, \"sent partial sum to master node\")\n",
    "    end_time = MPI.Wtime()\n",
    "    print(\" # walltime on processor\",rank,\" \", end_time-start_time)\n",
    "\n",
    "    \n"
   ]
  },
  {
   "cell_type": "code",
   "execution_count": null,
   "metadata": {},
   "outputs": [],
   "source": [
    "import sys\n",
    "import numpy as np\n",
    "from timeit import default_timer as timer\n",
    "from mpi4py import MPI\n",
    "\n",
    "comm = MPI.COMM_WORLD\n",
    "rank = comm.Get_rank()\n",
    "size = comm.Get_size()\n",
    "\n",
    "start_time = MPI.Wtime()\n",
    "\n",
    "N = int(sys.argv[1])\n",
    "\n",
    "reading_time_start = MPI.Wtime()\n",
    "\n",
    "N = np.arange(1,N+1)\n",
    "\n",
    "reading_time_end = MPI.Wtime()\n",
    "\n",
    "elements_per_rank = len(N)//size\n",
    "\n",
    "array = N[rank*elements_per_rank:(rank+1)*elements_per_rank]\n",
    "\n",
    "if len(N) % size != 0:\n",
    "    reminder = elements_per_rank * size\n",
    "else:\n",
    "    reminder = 0\n",
    "\n",
    "print(\"On processor\",rank,\"reading time\",reading_time_end-reading_time_start)\n",
    "\n",
    "comp_time_start = MPI.Wtime()\n",
    "\n",
    "partial_sum = np.sum(array)\n",
    "\n",
    "comp_time_end = MPI.Wtime()\n",
    "\n",
    "print(\"On processor\",rank,\"computation time\",comp_time_end-comp_time_start)\n",
    "\n",
    "\n",
    "#print(\"Computation time on rank\",rank,\"is\",comp_time_end-comp_time_end\t)\n",
    "\n",
    "#print(\"On rank\" ,rank,\"partial sum is\",partial_sum)\n",
    "    \n",
    "if rank == 0: #master nodes gather results from others\n",
    "\n",
    "    if reminder != 0:\n",
    "        reminder_sum = np.sum(N[reminder:])\n",
    "    else:\n",
    "        reminder_sum = 0\n",
    "\n",
    "    total = partial_sum + reminder_sum\n",
    "    for i in range(1,size):\n",
    "        comm.Reduce(partial_sum,total,op=MPI.SUM,root=0)\n",
    "        print(\"Total is\",total)\n",
    "        end_time = MPI.Wtime()\n",
    "    print(\" # walltime on master processor\",end_time-start_time)\n",
    "    print(\"Total:\",total)\n",
    "    \n",
    "\n",
    "\n",
    "    \n"
   ]
  },
  {
   "cell_type": "code",
   "execution_count": 91,
   "metadata": {},
   "outputs": [
    {
     "ename": "NameError",
     "evalue": "name 'liste' is not defined",
     "output_type": "error",
     "traceback": [
      "\u001b[0;31m---------------------------------------------------------------------------\u001b[0m",
      "\u001b[0;31mNameError\u001b[0m                                 Traceback (most recent call last)",
      "\u001b[0;32m<ipython-input-91-6eb0c56ccd55>\u001b[0m in \u001b[0;36m<module>\u001b[0;34m\u001b[0m\n\u001b[0;32m----> 1\u001b[0;31m \u001b[0mliste\u001b[0m\u001b[0;34m\u001b[0m\u001b[0;34m\u001b[0m\u001b[0m\n\u001b[0m",
      "\u001b[0;31mNameError\u001b[0m: name 'liste' is not defined"
     ]
    }
   ],
   "source": [
    "import sys\n",
    "import numpy as np\n",
    "from timeit import default_timer as timer\n",
    "from mpi4py import MPI\n",
    "\n",
    "comm = MPI.COMM_WORLD\n",
    "rank = comm.Get_rank()\n",
    "size = comm.Get_size()\n",
    "\n",
    "start_time = MPI.Wtime()\n",
    "\n",
    "N = int(sys.argv[1])\n",
    "\n",
    "reading_time_start = MPI.Wtime()\n",
    "\n",
    "N = np.arange(1,N+1)\n",
    "\n",
    "reading_time_end = MPI.Wtime()\n",
    "\n",
    "\n",
    "#print(\"On processor\",rank,\"reading time\",reading_time_end-reading_time_start)\n",
    "\n",
    "elements_per_rank = len(N)//size\n",
    "\n",
    "array = N[rank*elements_per_rank:(rank+1)*elements_per_rank]\n",
    "\n",
    "if len(N) % size != 0:\n",
    "    reminder = elements_per_rank * size\n",
    "else:\n",
    "    reminder = 0\n",
    "\n",
    "comp_time_start = MPI.Wtime()\n",
    "\n",
    "partial_sum = np.sum(array)\n",
    "\n",
    "comp_time_end = MPI.Wtime()\n",
    "\n",
    "#print(\"On processor\",rank,\"computation time\",comp_time_end-comp_time_start)\n",
    "\n",
    "\n",
    "#print(\"Computation time on rank\",rank,\"is\",comp_time_end-comp_time_end\t)\n",
    "\n",
    "#print(\"On rank\" ,rank,\"partial sum is\",partial_sum)\n",
    "    \n",
    "if rank == 0: #master nodes gather results from others\n",
    "\n",
    "    if reminder != 0:\n",
    "        reminder_sum = np.sum(N[reminder:])\n",
    "    else:\n",
    "        reminder_sum = 0\n",
    "\n",
    "    total = partial_sum + reminder_sum\n",
    "    for i in range(1,size):\n",
    "        recv_comm_start = MPI.Wtime()\n",
    "        partial_sum = comm.recv(source = i, tag = i*11)\n",
    "        recv_comm_end = MPI.Wtime()\n",
    "        #print(\"From rank\",i,\"to master node receiving time\",recv_comm_end-recv_comm_start) \n",
    "        #print(\"Received partial sum is\",partial_sum)\n",
    "        total += partial_sum\n",
    "        end_time = MPI.Wtime()\n",
    "    print(\" # walltime on master processor :\",end_time-start_time)\n",
    "    print(\"Total of N\",len(N),\":\",total)\n",
    "    \n",
    "else:\n",
    "    send_comm_start = MPI.Wtime()\n",
    "    comm.send(partial_sum, dest = 0, tag = rank*11)\n",
    "    send_comm_end = MPI.Wtime()\n",
    "    #print(\"From rank\",rank,\"to master node sending time is\",send_comm_end-send_comm_start)\n",
    "    #print(\"rank\",rank, \"sent partial sum to master node\")\n",
    "    end_time = MPI.Wtime()\n",
    "    print(\" # walltime on processor \",rank,\":\", end_time-start_time)\n",
    "\n",
    "    \n"
   ]
  },
  {
   "cell_type": "code",
   "execution_count": null,
   "metadata": {},
   "outputs": [],
   "source": []
  }
 ],
 "metadata": {
  "kernelspec": {
   "display_name": "Python 3",
   "language": "python",
   "name": "python3"
  },
  "language_info": {
   "codemirror_mode": {
    "name": "ipython",
    "version": 3
   },
   "file_extension": ".py",
   "mimetype": "text/x-python",
   "name": "python",
   "nbconvert_exporter": "python",
   "pygments_lexer": "ipython3",
   "version": "3.6.9"
  }
 },
 "nbformat": 4,
 "nbformat_minor": 2
}
